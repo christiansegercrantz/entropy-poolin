{
 "cells": [
  {
   "cell_type": "code",
   "execution_count": 9,
   "metadata": {},
   "outputs": [],
   "source": [
    "import numpy as np\n",
    "import pandas as pd\n",
    "data_raw = pd.read_excel(\"../data.xlsx\")\n",
    "weights = data_raw[[\"Weight\"]]\n",
    "scenarios = data_raw.drop(columns = [\"Weight\", \"Unnamed: 36\"])"
   ]
  },
  {
   "cell_type": "code",
   "execution_count": 57,
   "metadata": {},
   "outputs": [],
   "source": [
    "def mean_and_var(scenarios = scenarios, weights = weights):\n",
    "    m,n = scenarios.shape\n",
    "    weights_reshaped = np.asarray(weights).reshape(m,)\n",
    "    mu = np.asarray(np.average(scenarios, axis=0, weights = weights_reshaped)).reshape(1,n)\n",
    "    covar = np.cov(scenarios, rowvar = False, aweights = weights_reshaped)\n",
    "    \n",
    "    return mu, covar\n",
    "mu, covar = mean_and_var()"
   ]
  },
  {
   "cell_type": "code",
   "execution_count": 142,
   "metadata": {},
   "outputs": [
    {
     "data": {
      "text/plain": [
       "array([0.  , 0.  , 0.  , 0.  , 0.  , 0.18, 0.01, 0.01, 0.  , 0.  , 0.  ,\n",
       "       0.  , 0.  , 0.  , 0.  , 0.  , 0.  , 0.  , 0.  , 0.  , 0.  , 0.  ,\n",
       "       0.  , 0.  , 0.  , 0.  , 0.  , 0.  , 0.  , 0.  , 0.37, 0.02, 0.  ,\n",
       "       0.  , 0.01, 0.38])"
      ]
     },
     "execution_count": 142,
     "metadata": {},
     "output_type": "execute_result"
    }
   ],
   "source": [
    "from scipy.optimize import minimize, LinearConstraint\n",
    "m = covar.shape[0]\n",
    "x0 = np.random.rand(m,1)\n",
    "x0 = x0/sum(x0)\n",
    "\n",
    "def objective_function(x):\n",
    "    return  x @ covar @ x\n",
    "bounds = [(0, 1) for i in range(m)]\n",
    "constraints = LinearConstraint(np.ones(m), lb=1, ub=1)\n",
    "res = minimize(objective_function, x0 = x0, bounds = bounds, constraints = constraints)\n",
    "x = res.x\n",
    "np.round(x, decimals = 2)"
   ]
  }
 ],
 "metadata": {
  "interpreter": {
   "hash": "fb6ecd370173c15ba1f344ca231bc9e2bbb194c9d7e08b75c89986db00268143"
  },
  "kernelspec": {
   "display_name": "Python 3.9.1 64-bit",
   "language": "python",
   "name": "python3"
  },
  "language_info": {
   "codemirror_mode": {
    "name": "ipython",
    "version": 3
   },
   "file_extension": ".py",
   "mimetype": "text/x-python",
   "name": "python",
   "nbconvert_exporter": "python",
   "pygments_lexer": "ipython3",
   "version": "3.9.1"
  },
  "orig_nbformat": 4
 },
 "nbformat": 4,
 "nbformat_minor": 2
}
