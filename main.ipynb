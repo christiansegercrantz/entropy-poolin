{
 "cells": [
  {
   "cell_type": "code",
   "execution_count": 1,
   "metadata": {},
   "outputs": [],
   "source": [
    "import pandas as pd \n",
    "import numpy as np"
   ]
  },
  {
   "cell_type": "code",
   "execution_count": 2,
   "metadata": {},
   "outputs": [],
   "source": [
    "data_raw = pd.read_excel(\"data.xlsx\")\n",
    "weights = data_raw[[\"Weight\"]]\n",
    "scenarios = data_raw.drop(columns = [\"Weight\", \"Unnamed: 36\"])"
   ]
  },
  {
   "cell_type": "code",
   "execution_count": 12,
   "metadata": {},
   "outputs": [
    {
     "name": "stdout",
     "output_type": "stream",
     "text": [
      "Solving feasible mean values, which we give to covariance constraints...\n",
      "     pcost       dcost       gap    pres   dres\n",
      " 0: -1.0180e+03 -1.0183e+03  3e-01  3e-17  4e-02\n",
      " 1: -1.0180e+03 -1.0180e+03  5e-03  1e-16  7e-03\n",
      " 2: -1.0181e+03 -1.0181e+03  1e-03  3e-17  2e-18\n",
      " 3: -1.0181e+03 -1.0181e+03  1e-05  0e+00  1e-18\n",
      "Optimal solution found.\n"
     ]
    }
   ],
   "source": [
    "from entropy_pooling import views\n",
    "\n",
    "(A,b,C,d) = views.load();"
   ]
  },
  {
   "cell_type": "code",
   "execution_count": null,
   "metadata": {},
   "outputs": [],
   "source": [
    "from entropy_pooling import entropy_minimizer\n",
    "c = 0.5\n",
    "posterior = entropy_minimizer.full_confidence_posterior(A,b,C,d)\n",
    "weighted_posterior = entropy_minimizer.confidence_weighted_posterior(weights, posterior, c)"
   ]
  },
  {
   "cell_type": "code",
   "execution_count": null,
   "metadata": {},
   "outputs": [],
   "source": [
    "from entropy_pooling import markoviz_optimizer\n",
    "markoviz_optimizer.optimze(scenarios, weighted_posterior)"
   ]
  }
 ],
 "metadata": {
  "interpreter": {
   "hash": "d34d775e0b9bc5d91568c306d60d41b4e8ee7ef0deff665e67f27664ff2ef059"
  },
  "kernelspec": {
   "display_name": "Python 3.9.5 64-bit (conda)",
   "language": "python",
   "name": "python3"
  },
  "language_info": {
   "codemirror_mode": {
    "name": "ipython",
    "version": 3
   },
   "file_extension": ".py",
   "mimetype": "text/x-python",
   "name": "python",
   "nbconvert_exporter": "python",
   "pygments_lexer": "ipython3",
   "version": "3.9.10"
  },
  "orig_nbformat": 4
 },
 "nbformat": 4,
 "nbformat_minor": 2
}
