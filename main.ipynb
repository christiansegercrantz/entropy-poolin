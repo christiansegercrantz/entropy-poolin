{
 "cells": [
  {
   "cell_type": "code",
   "execution_count": 1,
   "metadata": {},
   "outputs": [],
   "source": [
    "import pandas as pd \n",
    "import numpy as np"
   ]
  },
  {
   "cell_type": "code",
   "execution_count": 2,
   "metadata": {},
   "outputs": [],
   "source": [
    "data_raw = pd.read_excel(\"data.xlsx\")\n",
    "weights = data_raw[[\"Weight\"]]\n",
    "scenarios = data_raw.drop(columns = [\"Weight\", \"Unnamed: 36\"])"
   ]
  },
  {
   "cell_type": "code",
   "execution_count": 3,
   "metadata": {},
   "outputs": [
    {
     "name": "stdout",
     "output_type": "stream",
     "text": [
      "     pcost       dcost       gap    pres   dres\n",
      " 0: -1.9348e+08 -1.9348e+08  9e-01  2e+00  4e-19\n",
      " 1: -1.9348e+08 -1.9348e+08  1e-02  1e-01  6e-20\n",
      " 2: -1.9348e+08 -1.9348e+08  1e-04  9e-04  1e-19\n",
      " 3: -1.9348e+08 -1.9348e+08  1e-06  9e-06  3e-20\n",
      " 4: -1.9348e+08 -1.9348e+08  1e-08  9e-08  1e-19\n",
      "Optimal solution found.\n"
     ]
    }
   ],
   "source": [
    "from entropy_pooling import views\n",
    "\n",
    "(A,b,C,d) = views.load();"
   ]
  },
  {
   "cell_type": "code",
   "execution_count": 4,
   "metadata": {},
   "outputs": [
    {
     "name": "stdout",
     "output_type": "stream",
     "text": [
      "[ 0.          0.         -0.49461506  0.08158093 -1.1601936 ]\n",
      "[ 1.17070219e+01  7.09255386e-01 -1.81263507e-07 -2.56495296e-07\n",
      "  4.84373383e-07]\n",
      "Shape of prior: (252, 1)\n",
      "Shape of post: (252,)\n"
     ]
    }
   ],
   "source": [
    "from entropy_pooling import entropy_minimizer\n",
    "c = 0.5\n",
    "p = np.array(weights)\n",
    "m,n = p.shape\n",
    "posterior = entropy_minimizer.full_confidence_posterior(p.reshape(m,), A,b.reshape(3,),np.asarray(C),d.reshape(2,))\n",
    "weighted_posterior = entropy_minimizer.confidence_weighted_posterior(p, posterior, c)"
   ]
  },
  {
   "cell_type": "code",
   "execution_count": 42,
   "metadata": {},
   "outputs": [
    {
     "name": "stdout",
     "output_type": "stream",
     "text": [
      "EUR Government Bonds: 64.2%\n",
      "European High Yield Corporate Bonds: 8.1%\n",
      "EMD Hard Currency: 27.7%\n"
     ]
    }
   ],
   "source": [
    "from entropy_pooling import markoviz_optimizer\n",
    "optimal_x = markoviz_optimizer.optimizer(scenarios.iloc[:,0:13], weighted_posterior[0,:], mu_0 = 0.5, disp = False, visualize = False).x\n",
    "np.round(optimal_x, decimals = 2)\n",
    "for i, col in enumerate(scenarios.iloc[:,0:13].columns):\n",
    "  if optimal_x[i] > 0.001:\n",
    "    print(\"{}: {}%\".format(col, np.round(optimal_x[i]*100,decimals = 1)))"
   ]
  }
 ],
 "metadata": {
  "interpreter": {
   "hash": "d34d775e0b9bc5d91568c306d60d41b4e8ee7ef0deff665e67f27664ff2ef059"
  },
  "kernelspec": {
   "display_name": "Python 3.9.5 64-bit (conda)",
   "language": "python",
   "name": "python3"
  },
  "language_info": {
   "codemirror_mode": {
    "name": "ipython",
    "version": 3
   },
   "file_extension": ".py",
   "mimetype": "text/x-python",
   "name": "python",
   "nbconvert_exporter": "python",
   "pygments_lexer": "ipython3",
   "version": "3.9.6"
  },
  "orig_nbformat": 4
 },
 "nbformat": 4,
 "nbformat_minor": 2
}
