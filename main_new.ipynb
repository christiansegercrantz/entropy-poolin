{
 "cells": [
  {
   "cell_type": "markdown",
   "id": "e3571720",
   "metadata": {},
   "source": [
    "# Entropy Pooling Portfolio Optimization\n",
    "This Jupyter notebook and the associated Python files are intended for performing a Markovitz portfolio optimization using Entropy Pooling to incportporate information contained in user-specified return scenarios and views.\n",
    "\n",
    "Credits: Lauri Jokinen, Christian Segercrantz and Ilmari Vauhkonen"
   ]
  },
  {
   "cell_type": "markdown",
   "id": "18786489",
   "metadata": {},
   "source": [
    "### 1) Imports and setting parameters\n",
    "The first step is to import all necessary packages and to specify all user-defined parameters."
   ]
  },
  {
   "cell_type": "code",
   "execution_count": 1,
   "id": "8a451b4c",
   "metadata": {},
   "outputs": [],
   "source": [
    "import pandas as pd \n",
    "import numpy as np\n",
    "import os\n",
    "\n",
    "from plotnine import ggplot, geom_area, aes, labs, scale_x_continuous\n",
    "from tqdm.notebook import tqdm \n",
    "\n",
    "# Import functions\n",
    "from entropy_pooling import views\n",
    "from entropy_pooling import entropy_minimizer\n",
    "from entropy_pooling import markoviz_optimizer"
   ]
  },
  {
   "cell_type": "code",
   "execution_count": 2,
   "id": "8f9cbf6a",
   "metadata": {},
   "outputs": [],
   "source": [
    "### ALL PARAMETERS SPECIFIED BY USER ARE SET HERE ###\n",
    "\n",
    "### Set the current working directory correctly\n",
    "# directory = ''\n",
    "# os.chdir(directory)\n",
    "\n",
    "### Filenames (and sheet names if necessary) of the input Excel files\n",
    "scenarios_file = 'data/data.xlsx'\n",
    "views_file     = 'data/sample_portfolio2_views.xlsx'\n",
    "views_sheet    = 2\n",
    "deltas_file    = 'data/sample_portfolio2_deltas.xlsx'\n",
    "constrs_file   = 'data/sample_portfolio2_constrs.xlsx'\n",
    "\n",
    "### Other parameters to be defined by the user\n",
    "confidence_weight = 1 # between [0,1], how big a 'compromise' is done betw. prior and posterior distributions\n",
    "total_capital     = 417000000 # The total (net) amount of capital that is invested in the portfolio.\n",
    "mu_0              = 0.0005 * total_capital # The minimum expected return of the portfolio (in Euros)\n",
    "c                 = 1 #Probability of the posterior distribution happening\n",
    "leave_out         = [13,14] #Which assets to leave out of the visualization markowitz model. Give as array of indices."
   ]
  },
  {
   "cell_type": "markdown",
   "id": "12397594",
   "metadata": {},
   "source": [
    "### 2) Uploading user inputs\n",
    "We proceed by uploading the input data: factor scenarios, views, asset delta matrix and optimization constraints."
   ]
  },
  {
   "cell_type": "code",
   "execution_count": 3,
   "id": "4893222c",
   "metadata": {},
   "outputs": [],
   "source": [
    "# Scenarios and prior probabilities\n",
    "scenarios, prior = markoviz_optimizer.load_factor_scenarios(scenarios_file, scale_by_100 = True)\n",
    "# Views\n",
    "(A,b,C,d) = views.load(views_sheet_name = views_file, views_subsheet_name = views_sheet);\n",
    "# Asset deltas\n",
    "deltas, asset_names = markoviz_optimizer.load_asset_deltas(deltas_file)\n",
    "# Portfolio constraints\n",
    "constr_A, lb, ub = markoviz_optimizer.load_portfolio_constraints(constrs_file)"
   ]
  },
  {
   "cell_type": "markdown",
   "id": "92e3a5d0",
   "metadata": {},
   "source": [
    "### 3) Entropy minimization\n",
    "Now we minimize the relative entropy between the given prior distribution and the posterior distribution, so that the view(s), expressed in terms of linear constraints, is (are) satisfied."
   ]
  },
  {
   "cell_type": "code",
   "execution_count": 4,
   "id": "22f01402",
   "metadata": {},
   "outputs": [
    {
     "name": "stdout",
     "output_type": "stream",
     "text": [
      "Results\n",
      "Optimal dual variable values:  [ 2.81186418 -0.97813745]\n",
      "Jacobian matrix at optimum [-3.06266828e-06 -4.02891634e-07]\n"
     ]
    }
   ],
   "source": [
    "posterior = entropy_minimizer.full_confidence_posterior(prior, A, b, C, d, verbose = True)\n",
    "weighted_posterior = entropy_minimizer.confidence_weighted_posterior(prior, posterior, c)"
   ]
  },
  {
   "cell_type": "markdown",
   "id": "6d8599ab",
   "metadata": {},
   "source": [
    "### 4) Computing the asset-specific return scenarios\n",
    "This is a necessary step so that we can formulate the expected returns and variance-covariance matrix needed for the Markowitz optimization."
   ]
  },
  {
   "cell_type": "code",
   "execution_count": 5,
   "id": "48b19ad7",
   "metadata": {},
   "outputs": [],
   "source": [
    "asset_scenarios = markoviz_optimizer.asset_scenarios(scenarios, deltas, asset_names)"
   ]
  },
  {
   "cell_type": "code",
   "execution_count": 9,
   "id": "7052bca3",
   "metadata": {},
   "outputs": [
    {
     "name": "stdout",
     "output_type": "stream",
     "text": [
      "The optimization was succesful: True\n",
      "Global Equities: 7098568.0\n",
      "DM Equities: 7098570.0\n",
      "EM Equities: 7098538.0\n",
      "European Equities: 7098566.0\n",
      "US Equities: 7098575.0\n",
      "EUR Money Markets: 53253618.0\n",
      "EUR Government Bonds: 86221436.0\n",
      "EUR Covered Bonds: 53253596.0\n",
      "EUR Investment Grade Corporate Bonds: 53253577.0\n",
      "European High Yield Corporate Bonds: 41700000.0\n",
      "EMD Hard Currency: 53253545.0\n",
      "Hedge Funds: 20285771.0\n",
      "Listed Private Equity: 20285640.0\n",
      "Technical Provisions: 1.0\n",
      "IR Hedges: 1.0\n"
     ]
    }
   ],
   "source": [
    "### 5) The Markowitz optimization\n",
    "\n",
    "optimal = markoviz_optimizer.optimizer(asset_scenarios,\n",
    "                                         weighted_posterior,\n",
    "                                         mu_0 = 0,\n",
    "                                         manual_constraints = (constr_A, lb, ub),\n",
    "                                         visualize = False,\n",
    "                                         verbose = 1)\n",
    "for i, col in enumerate(asset_scenarios.columns):\n",
    "  print(\"{}: {}\".format(col, np.round(optimal.x[i],decimals = 0)))"
   ]
  }
 ],
 "metadata": {
  "interpreter": {
   "hash": "81794d4967e6c3204c66dcd87b604927b115b27c00565d3d43f05ba2f3a2cb0d"
  },
  "kernelspec": {
   "display_name": "Python 3.9.6 64-bit",
   "language": "python",
   "name": "python3"
  },
  "language_info": {
   "codemirror_mode": {
    "name": "ipython",
    "version": 3
   },
   "file_extension": ".py",
   "mimetype": "text/x-python",
   "name": "python",
   "nbconvert_exporter": "python",
   "pygments_lexer": "ipython3",
   "version": "3.9.6"
  }
 },
 "nbformat": 4,
 "nbformat_minor": 5
}
