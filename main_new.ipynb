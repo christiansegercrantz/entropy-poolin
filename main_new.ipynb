{
 "cells": [
  {
   "cell_type": "markdown",
   "id": "e3571720",
   "metadata": {},
   "source": [
    "# Entropy Pooling Portfolio Optimization\n",
    "This Jupyter notebook and the associated Python files are intended for performing a Markovitz portfolio optimization using Entropy Pooling to incportporate information contained in user-specified return scenarios and views.\n",
    "\n",
    "Credits: Lauri Jokinen, Christian Segercrantz and Ilmari Vauhkonen"
   ]
  },
  {
   "cell_type": "markdown",
   "id": "18786489",
   "metadata": {},
   "source": [
    "### 1) Imports and setting parameters\n",
    "The first step is to import all necessary packages and to specify all user-defined parameters."
   ]
  },
  {
   "cell_type": "code",
   "execution_count": 1,
   "id": "8a451b4c",
   "metadata": {},
   "outputs": [],
   "source": [
    "import pandas as pd \n",
    "import numpy as np\n",
    "import os\n",
    "\n",
    "from plotnine import ggplot, geom_area, aes, labs, scale_x_continuous\n",
    "from tqdm.notebook import tqdm\n",
    "\n",
    "# Import functions\n",
    "from entropy_pooling import views\n",
    "from entropy_pooling import entropy_minimizer\n",
    "from entropy_pooling import markoviz_optimizer"
   ]
  },
  {
   "cell_type": "code",
   "execution_count": 2,
   "id": "8f9cbf6a",
   "metadata": {},
   "outputs": [],
   "source": [
    "### ALL PARAMETERS SPECIFIED BY USER ARE SET HERE ###\n",
    "\n",
    "### Set the current working directory correctly\n",
    "# directory = ''\n",
    "# os.chdir(directory)\n",
    "\n",
    "### Filenames (and sheet names if necessary) of the input Excel files\n",
    "scenarios_file = 'data/data.xlsx'\n",
    "views_file     = 'data/sample_portfolio2_views.xlsx'\n",
    "views_sheet    = 2\n",
    "deltas_file    = 'data/sample_portfolio2_deltas.xlsx'\n",
    "constrs_file   = 'data/sample_portfolio2_constrs.xlsx'\n",
    "\n",
    "### Other parameters to be defined by the user\n",
    "confidence_weight = 1 # between [0,1], how big a 'compromise' is done betw. prior and posterior distributions\n",
    "total_capital     = 417000000 # The total (net) amount of capital that is invested in the portfolio.\n",
    "mu_0              = 0.005 * total_capital # The minimum expected return of the portfolio (in Euros)\n",
    "c                 = 1 #Probability of the posterior distribution happening\n",
    "leave_out         = [13,14] #Which assets to leave out of the visualization markowitz model. Give as array of indeces."
   ]
  },
  {
   "cell_type": "markdown",
   "id": "12397594",
   "metadata": {},
   "source": [
    "### 2) Uploading user inputs\n",
    "We proceed by uploading the input data: factor scenarios, views, asset delta matrix and optimization constraints."
   ]
  },
  {
   "cell_type": "code",
   "execution_count": 3,
   "id": "4893222c",
   "metadata": {},
   "outputs": [],
   "source": [
    "# Scenarios and prior probabilities\n",
    "scenarios, prior = markoviz_optimizer.load_factor_scenarios(scenarios_file, scale_by_100 = True)\n",
    "# Views\n",
    "(A,b,C,d) = views.load(views_sheet_name = views_file, views_subsheet_name = views_sheet);\n",
    "# Asset deltas\n",
    "deltas, asset_names = markoviz_optimizer.load_asset_deltas(deltas_file)\n",
    "# Portfolio constraints\n",
    "constr_A, lb, ub = markoviz_optimizer.load_portfolio_constraints(constrs_file)"
   ]
  },
  {
   "cell_type": "markdown",
   "id": "92e3a5d0",
   "metadata": {},
   "source": [
    "### 3) Entropy minimization\n",
    "Now we minimize the relative entropy between the given prior distribution and the posterior distribution, so that the view(s), expressed in terms of linear constraints, is (are) satisfied."
   ]
  },
  {
   "cell_type": "code",
   "execution_count": 4,
   "id": "22f01402",
   "metadata": {},
   "outputs": [
    {
     "name": "stdout",
     "output_type": "stream",
     "text": [
      "Results\n",
      "Optimal dual variable values:  [ 2.81186417 -0.97813745]\n",
      "Jacobian matrix at optimum [-3.06267478e-06 -4.02899802e-07]\n"
     ]
    }
   ],
   "source": [
    "posterior = entropy_minimizer.full_confidence_posterior(prior, A, b, C, d, verbose = True)\n",
    "weighted_posterior = entropy_minimizer.confidence_weighted_posterior(prior, posterior, c)"
   ]
  },
  {
   "cell_type": "markdown",
   "id": "6d8599ab",
   "metadata": {},
   "source": [
    "### 4) Computing the asset-specific return scenarios\n",
    "This is a necessary step so that we can formulate the expected returns and variance-covariance matrix needed for the Markowitz optimization."
   ]
  },
  {
   "cell_type": "code",
   "execution_count": 5,
   "id": "48b19ad7",
   "metadata": {},
   "outputs": [],
   "source": [
    "asset_scenarios = markoviz_optimizer.asset_scenarios(scenarios, deltas, asset_names)"
   ]
  },
  {
   "cell_type": "code",
   "execution_count": 9,
   "id": "7052bca3",
   "metadata": {},
   "outputs": [
    {
     "name": "stdout",
     "output_type": "stream",
     "text": [
      "The optimization was succesful: False\n",
      "The optimization was terminated due to: \n",
      "Positive directional derivative for linesearch\n",
      "Global Equities: 0.0\n",
      "DM Equities: 0.0\n",
      "EM Equities: 0.0\n",
      "European Equities: 0.0\n",
      "US Equities: 0.0\n",
      "EUR Money Markets: 0.0\n",
      "EUR Government Bonds: 0.0\n",
      "EUR Covered Bonds: 0.0\n",
      "EUR Investment Grade Corporate Bonds: 0.0\n",
      "European High Yield Corporate Bonds: 0.0\n",
      "EMD Hard Currency: 0.0\n",
      "Hedge Funds: 0.0\n",
      "Listed Private Equity: 1.0\n",
      "Technical Provisions: 0.0\n",
      "IR Hedges: 0.0\n"
     ]
    }
   ],
   "source": [
    "### 5) The Markowitz optimization\n",
    "\n",
    "optimal_x = markoviz_optimizer.optimizer(asset_scenarios,\n",
    "                                         weighted_posterior,\n",
    "                                         mu_0 = mu_0,\n",
    "                                         manual_constraints = (constr_A, lb, ub),\n",
    "                                         visualize = False,\n",
    "                                         leave_out = leave_out,\n",
    "                                         verbose = 1).x\n",
    "for i, col in enumerate(asset_scenarios.columns):\n",
    "  print(\"{}: {}\".format(col, np.round(optimal_x[i],decimals = 0)))"
   ]
  }
 ],
 "metadata": {
  "interpreter": {
   "hash": "be6c291490bc7fb937cc836815bdd40c4c4ccf94dcf4bd1987661900add41576"
  },
  "kernelspec": {
   "display_name": "Python 3.9.1 64-bit",
   "language": "python",
   "name": "python3"
  },
  "language_info": {
   "codemirror_mode": {
    "name": "ipython",
    "version": 3
   },
   "file_extension": ".py",
   "mimetype": "text/x-python",
   "name": "python",
   "nbconvert_exporter": "python",
   "pygments_lexer": "ipython3",
   "version": "3.9.1"
  }
 },
 "nbformat": 4,
 "nbformat_minor": 5
}
