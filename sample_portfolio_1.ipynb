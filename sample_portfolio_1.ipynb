{
 "cells": [
  {
   "cell_type": "markdown",
   "metadata": {},
   "source": [
    "# Sample portfolio 1\n",
    "\n",
    "This notebook runs through the library on the files specified as __'sample_portfolio1'__"
   ]
  },
  {
   "cell_type": "markdown",
   "metadata": {},
   "source": [
    "First we import everything"
   ]
  },
  {
   "cell_type": "code",
   "execution_count": 1,
   "metadata": {},
   "outputs": [],
   "source": [
    "import pandas as pd \n",
    "import numpy as np\n",
    "from entropy_pooling import views\n",
    "from entropy_pooling import entropy_minimizer\n",
    "from entropy_pooling import markoviz_optimizer"
   ]
  },
  {
   "cell_type": "markdown",
   "metadata": {},
   "source": [
    "Then we get the data"
   ]
  },
  {
   "cell_type": "code",
   "execution_count": 2,
   "metadata": {},
   "outputs": [],
   "source": [
    "data_raw = pd.read_excel(\"data.xlsx\")\n",
    "weights = data_raw[[\"Weight\"]]\n",
    "scenarios = data_raw.drop(columns = [\"Weight\"]).dropna(axis=1, how='all')"
   ]
  },
  {
   "cell_type": "markdown",
   "metadata": {},
   "source": [
    "We load the vies"
   ]
  },
  {
   "cell_type": "code",
   "execution_count": 3,
   "metadata": {},
   "outputs": [],
   "source": [
    "(A,b,C,d) = views.load();"
   ]
  },
  {
   "cell_type": "markdown",
   "metadata": {},
   "source": [
    "We create the posterior distribution"
   ]
  },
  {
   "cell_type": "code",
   "execution_count": 4,
   "metadata": {},
   "outputs": [
    {
     "name": "stdout",
     "output_type": "stream",
     "text": [
      "Results\n",
      "Optimal dual variable values:  [ 0.          0.         -1.00741107  0.27863596  0.00687   ]\n",
      "Jacobian matrix at optimum [ 5.54049852e-04  2.58868827e-01  3.20395932e-10 -1.59856400e-08\n",
      " -2.05725881e-10]\n"
     ]
    }
   ],
   "source": [
    "c = 0.5\n",
    "p = np.array(weights)\n",
    "m,n = p.shape\n",
    "\n",
    "posterior = entropy_minimizer.full_confidence_posterior(p, A,b,C,d)\n",
    "weighted_posterior = entropy_minimizer.confidence_weighted_posterior(p, posterior, c)\n",
    "\n"
   ]
  },
  {
   "cell_type": "markdown",
   "metadata": {},
   "source": [
    "We get the deltas and create the asset space. Additionally, we import the additional constraints for the markoviz optimization"
   ]
  },
  {
   "cell_type": "code",
   "execution_count": 5,
   "metadata": {},
   "outputs": [],
   "source": [
    "deltas, asset_names = markoviz_optimizer.load_asset_deltas(\"entropy_pooling/sample_portfolio1_deltas.xlsx\")\n",
    "\n",
    "asset_scenarios = markoviz_optimizer.asset_scenarios(scenarios, deltas)\n",
    "\n",
    "loaded_constraints = pd.read_excel(\"entropy_pooling/sample_portfolio1_constrs.xlsx\").dropna(axis=1, how='all')\n",
    "manual_constraints = (loaded_constraints.iloc[:,:-2], loaded_constraints.iloc[:,-2], loaded_constraints.iloc[:,-1])"
   ]
  },
  {
   "cell_type": "markdown",
   "metadata": {},
   "source": [
    "And finally we do markowitz optimization on the posterior distribution and plot the outcome.\n",
    "\n",
    "We minimize the volatility at return $\\mu_0 = 0.5$ and do not allow for shorting."
   ]
  },
  {
   "cell_type": "code",
   "execution_count": 12,
   "metadata": {},
   "outputs": [
    {
     "name": "stderr",
     "output_type": "stream",
     "text": [
      "c:\\Users\\Christian Segercrant\\AppData\\Local\\Programs\\Python\\Python39\\lib\\site-packages\\scipy\\optimize\\_constraints.py:432: OptimizeWarning: Equality and inequality constraints are specified in the same element of the constraint list. For efficient use with this method, equality and inequality constraints should be specified in separate elements of the constraint list. \n"
     ]
    },
    {
     "name": "stdout",
     "output_type": "stream",
     "text": [
      "The optimization was succesful: False\n",
      "The optimization was terminated due to: \n",
      "Positive directional derivative for linesearch\n"
     ]
    },
    {
     "data": {
      "image/png": "[encoded data removed]",
      "text/plain": [
       "<Figure size 640x480 with 1 Axes>"
      ]
     },
     "metadata": {},
     "output_type": "display_data"
    }
   ],
   "source": [
    "optimal_x = markoviz_optimizer.optimizer(asset_scenarios,\n",
    "                                         weighted_posterior,\n",
    "                                         mu_0 = 0.5,\n",
    "                                         manual_constraints = manual_constraints,\n",
    "                                         allow_shorting = False,\n",
    "                                         visualize = True,\n",
    "                                         verbose = 1).x"
   ]
  }
 ],
 "metadata": {
  "interpreter": {
   "hash": "be6c291490bc7fb937cc836815bdd40c4c4ccf94dcf4bd1987661900add41576"
  },
  "kernelspec": {
   "display_name": "Python 3.9.1 64-bit",
   "language": "python",
   "name": "python3"
  },
  "language_info": {
   "codemirror_mode": {
    "name": "ipython",
    "version": 3
   },
   "file_extension": ".py",
   "mimetype": "text/x-python",
   "name": "python",
   "nbconvert_exporter": "python",
   "pygments_lexer": "ipython3",
   "version": "3.9.1"
  },
  "orig_nbformat": 4
 },
 "nbformat": 4,
 "nbformat_minor": 2
}
