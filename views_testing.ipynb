{
 "cells": [
  {
   "cell_type": "code",
   "execution_count": 10,
   "metadata": {},
   "outputs": [
    {
     "name": "stdout",
     "output_type": "stream",
     "text": [
      "     pcost       dcost       gap    pres   dres\n",
      " 0: -1.9348e+00 -1.9350e+00  2e-04  0e+00  7e-01\n",
      " 1: -1.9348e+00 -1.9348e+00  2e-06  1e-19  7e-03\n",
      " 2: -1.9348e+00 -1.9348e+00  2e-08  1e-19  2e-04\n",
      " 3: -1.9348e+00 -1.9348e+00  5e-10  1e-19  1e-05\n",
      " 4: -1.9348e+00 -1.9348e+00  6e-12  1e-19  8e-08\n",
      "Optimal solution found.\n",
      "   Global Equities  DM Equities\n",
      "0         0.002926     0.005525\n",
      "Assetit European Equities Global Equities\n",
      "Assetit EM Equities European Equities\n",
      "Results\n",
      "Optimal dual variable values:  [ 1.19608340e+03  8.16961028e+00 -9.38559158e-01  3.61656034e+01\n",
      " -8.83789437e+00]\n",
      "Jacobian matrix at optimum [-0.004761   -0.4033505  -0.39924672  0.01759662 -0.47671203]\n",
      "\n",
      "-- MEAN VALUES (pre/post) --\n",
      "Global Equities    6.803574\n",
      "DM Equities        6.835148\n",
      "EM Equities        9.950194\n",
      "dtype: float64\n",
      "Global Equities   -36.646727\n",
      "DM Equities       -36.161357\n",
      "EM Equities       -37.331821\n",
      "dtype: float64\n",
      "\n",
      "-- VOLATILITY (pre/post) --\n",
      "Global Equities    21.319891\n",
      "DM Equities        21.593033\n",
      "EM Equities        21.146183\n",
      "dtype: float64\n",
      "Global Equities    21.319891\n",
      "DM Equities        21.593033\n",
      "EM Equities        21.146183\n",
      "dtype: float64\n",
      "\n",
      "-- CORRELATION (pre/post) --\n",
      "0.9998566751286977\n",
      "0.9164258938760516\n"
     ]
    },
    {
     "data": {
      "image/png": "[encoded data removed]",
      "text/plain": [
       "<Figure size 432x288 with 1 Axes>"
      ]
     },
     "metadata": {
      "needs_background": "light"
     },
     "output_type": "display_data"
    }
   ],
   "source": [
    "import numpy as np\n",
    "import pandas as pd\n",
    "import matplotlib.pyplot as plt\n",
    "import entropy_pooling as ep\n",
    "data = ep.views.load()\n",
    "(A,b,C,d) = data\n",
    "#print(A,b)\n",
    "scenarios = pd.read_excel(\"data.xlsx\")\n",
    "sample = scenarios[['Global Equities','DM Equities','EM Equities']]\n",
    "\n",
    "def weighted_mean(x, w):\n",
    "    \"\"\"Weighted Mean\"\"\"\n",
    "    #print((x).size)\n",
    "    #print((w).size)\n",
    "    return np.sum(np.array(x) * np.array(w)) / np.sum(w)\n",
    "\n",
    "def weighted_std(values, weights):\n",
    "    average = np.average(values, axis=0, weights=weights)\n",
    "    # Fast and numerically precise:\n",
    "    variance = np.average((values-average)**2, axis=0, weights=weights)\n",
    "    res = np.sqrt(variance)\n",
    "    return pd.DataFrame([res], columns=values.columns).mean() # mean just to format the rows to one\n",
    "\n",
    "def weighted_cov(x, y, w):\n",
    "    return np.sum(w * np.array(x - weighted_mean(x, w)) * np.array(y - weighted_mean(y, w))) / np.sum(w)\n",
    "\n",
    "def weighted_corr(x, y, w):\n",
    "    return weighted_cov(x, y, w) / np.sqrt(weighted_cov(x, x, w) * weighted_cov(y, y, w))\n",
    "\n",
    "def print_means(scenarios, weights):\n",
    "    means = sample.multiply(weights,axis=0).sum()\n",
    "    print(((1+means/100)**12-1)*100) # out in precentages 0.06 => 6 %\n",
    "\n",
    "def print_vols(scenarios, weights):\n",
    "    print(weighted_std(sample, post) * np.sqrt(12)) # out in precentages 0.06 => 6 %\n",
    "\n",
    "m,n = scenarios.shape\n",
    "pre = np.ones((1,m)).T/m\n",
    "post = ep.entropy_minimizer.full_confidence_posterior(pre, A, b, C, d)\n",
    "# Annualized\n",
    "print('\\n-- MEAN VALUES (pre/post) --')\n",
    "print_means(sample, pre)\n",
    "print_means(sample, post)\n",
    "print('\\n-- VOLATILITY (pre/post) --')\n",
    "print_vols(sample, pre)\n",
    "print_vols(sample, post)\n",
    "print('\\n-- CORRELATION (pre/post) --')\n",
    "print(weighted_corr(sample['Global Equities'], sample['EM Equities'], pre))\n",
    "print(weighted_corr(sample['Global Equities'], sample['EM Equities'], post))\n",
    "plt.bar(range(len(post)),np.sort(post))\n",
    "plt.ylabel('sorted post weights')\n",
    "plt.show()"
   ]
  },
  {
   "cell_type": "code",
   "execution_count": null,
   "metadata": {},
   "outputs": [],
   "source": []
  }
 ],
 "metadata": {
  "interpreter": {
   "hash": "50feca3f83a0fdaa6a94f79ca54dafeb3e7937f1731dd8186ee1a2ed94535880"
  },
  "kernelspec": {
   "display_name": "Python 3.9.10 64-bit (windows store)",
   "language": "python",
   "name": "python3"
  },
  "language_info": {
   "codemirror_mode": {
    "name": "ipython",
    "version": 3
   },
   "file_extension": ".py",
   "mimetype": "text/x-python",
   "name": "python",
   "nbconvert_exporter": "python",
   "pygments_lexer": "ipython3",
   "version": "3.9.6"
  },
  "orig_nbformat": 4
 },
 "nbformat": 4,
 "nbformat_minor": 2
}
