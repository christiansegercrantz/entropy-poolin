{
 "cells": [
  {
   "cell_type": "code",
   "execution_count": 1,
   "metadata": {},
   "outputs": [
    {
     "name": "stdout",
     "output_type": "stream",
     "text": [
      "   Global Equities  DM Equities\n",
      "0           0.0055     0.005525\n",
      "Results\n",
      "Optimal dual variable values:  [ 0. -1.]\n",
      "Jacobian matrix at optimum [ 1.34473953e-02 -8.47544257e-13]\n",
      "\n",
      "-- MEAN VALUES (pre/post) --\n",
      "US Services PMI            0.381618\n",
      "Eurozone Core Inflation    1.384904\n",
      "dtype: float64\n",
      "US Services PMI            0.381618\n",
      "Eurozone Core Inflation    1.384904\n",
      "dtype: float64\n",
      "\n",
      "-- VOLATILITY (pre/post) --\n",
      "US Services PMI            7.706231\n",
      "Eurozone Core Inflation    2.091658\n",
      "dtype: float64\n",
      "US Services PMI            7.706231\n",
      "Eurozone Core Inflation    2.091658\n",
      "dtype: float64\n",
      "\n",
      "-- CORRELATION (pre/post) --\n",
      "-0.06681775452720926\n",
      "-0.06681775452720928\n"
     ]
    },
    {
     "data": {
      "image/png": "[encoded data removed]",
      "text/plain": [
       "<Figure size 432x288 with 1 Axes>"
      ]
     },
     "metadata": {
      "needs_background": "light"
     },
     "output_type": "display_data"
    }
   ],
   "source": [
    "import numpy as np\n",
    "import pandas as pd\n",
    "import matplotlib.pyplot as plt\n",
    "import entropy_pooling as ep\n",
    "data = ep.views.load()\n",
    "(A,b,C,d) = data\n",
    "#print(A,b)\n",
    "scenarios = pd.read_excel(\"data.xlsx\")\n",
    "sample = scenarios[['US Services PMI','Eurozone Core Inflation']]\n",
    "\n",
    "def weighted_mean(x, w):\n",
    "    \"\"\"Weighted Mean\"\"\"\n",
    "    #print((x).size)\n",
    "    #print((w).size)\n",
    "    return np.sum(np.array(x) * np.array(w)) / np.sum(w)\n",
    "\n",
    "def weighted_std(values, weights):\n",
    "    avg = np.sum(values * weights) / np.sum(weights)\n",
    "    # Fast and numerically precise:\n",
    "    variance = np.sum((values-avg)**2 * weights) / np.sum(weights)\n",
    "    res = np.sqrt(variance)\n",
    "    return pd.DataFrame([res], columns=values.columns).mean() # mean just to format the rows to one\n",
    "\n",
    "def weighted_cov(x,y, weights):\n",
    "    weights = np.asarray(weights.T)[0] # formatting magic\n",
    "    avg_x = np.sum(x * weights) / np.sum(weights)\n",
    "    avg_y = np.sum(y * weights) / np.sum(weights)\n",
    "    res = np.sum((x-avg_x)*(y-avg_y)*weights) / np.sum(weights)\n",
    "    return res\n",
    "\n",
    "def weighted_cov1(x, y, w):\n",
    "    return np.sum(w * np.array(x - weighted_mean(x, w)) * np.array(y - weighted_mean(y, w))) / np.sum(w)\n",
    "\n",
    "def weighted_corr(x, y, w):\n",
    "    return weighted_cov(x, y, w) / np.sqrt(weighted_cov(x, x, w) * weighted_cov(y, y, w))\n",
    "\n",
    "def print_means(scenarios, weights):\n",
    "    means = sample.multiply(weights,axis=0).sum()\n",
    "    print(((1+means/100)**12-1)*100) # out in precentages 0.06 => 6 %\n",
    "\n",
    "def print_vols(scenarios, weights):\n",
    "    print(weighted_std(sample, post) * np.sqrt(12)) # out in precentages 0.06 => 6 %\n",
    "\n",
    "m,n = scenarios.shape\n",
    "pre = np.ones((1,m)).T/m\n",
    "post = ep.entropy_minimizer.full_confidence_posterior(pre, A, b, C, d)\n",
    "post = np.array([post]).T\n",
    "\n",
    "# Annualized\n",
    "print('\\n-- MEAN VALUES (pre/post) --')\n",
    "print_means(sample, pre)\n",
    "print_means(sample, post)\n",
    "\n",
    "print('\\n-- VOLATILITY (pre/post) --')\n",
    "print_vols(sample, pre)\n",
    "print_vols(sample, post)\n",
    "\n",
    "print('\\n-- CORRELATION (pre/post) --')\t\n",
    "print(weighted_corr(sample['Eurozone Core Inflation'], sample['US Services PMI'], pre))\n",
    "print(weighted_corr(sample['Eurozone Core Inflation'], sample['US Services PMI'], post))\n",
    "\n",
    "plt.bar(range(len(post)),np.sort(post.T[0]))\n",
    "plt.ylabel('sorted post weights')\n",
    "plt.show()"
   ]
  },
  {
   "cell_type": "code",
   "execution_count": null,
   "metadata": {},
   "outputs": [],
   "source": []
  }
 ],
 "metadata": {
  "interpreter": {
   "hash": "50feca3f83a0fdaa6a94f79ca54dafeb3e7937f1731dd8186ee1a2ed94535880"
  },
  "kernelspec": {
   "display_name": "Python 3.9.10 64-bit (windows store)",
   "language": "python",
   "name": "python3"
  },
  "language_info": {
   "codemirror_mode": {
    "name": "ipython",
    "version": 3
   },
   "file_extension": ".py",
   "mimetype": "text/x-python",
   "name": "python",
   "nbconvert_exporter": "python",
   "pygments_lexer": "ipython3",
   "version": "3.9.12"
  },
  "orig_nbformat": 4
 },
 "nbformat": 4,
 "nbformat_minor": 2
}
