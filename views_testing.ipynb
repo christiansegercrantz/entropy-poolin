{
 "cells": [
  {
   "cell_type": "code",
   "execution_count": 1,
   "metadata": {},
   "outputs": [
    {
     "name": "stdout",
     "output_type": "stream",
     "text": [
      "Results\n",
      "Optimal dual variable values:  [1. 1.]\n",
      "Jacobian matrix at optimum [0.86481736        nan]\n",
      "\n",
      "-- MEAN VALUES (pre/post) --\n",
      "US Services PMI            0.381618\n",
      "Eurozone Core Inflation    1.384904\n",
      "dtype: float64\n",
      "US Services PMI            0.052974\n",
      "Eurozone Core Inflation    0.180254\n",
      "dtype: float64\n",
      "\n",
      "-- VOLATILITY (pre/post) --\n",
      "US Services PMI            7.704543\n",
      "Eurozone Core Inflation    2.097804\n",
      "dtype: float64\n",
      "US Services PMI            7.704543\n",
      "Eurozone Core Inflation    2.097804\n",
      "dtype: float64\n",
      "\n",
      "-- CORRELATION (pre/post) --\n",
      "-0.06681775452720926\n",
      "-0.06728649892952807\n"
     ]
    },
    {
     "data": {
      "image/png": "[encoded data removed]",
      "text/plain": [
       "<Figure size 432x288 with 1 Axes>"
      ]
     },
     "metadata": {
      "needs_background": "light"
     },
     "output_type": "display_data"
    }
   ],
   "source": [
    "import numpy as np\n",
    "import pandas as pd\n",
    "import matplotlib.pyplot as plt\n",
    "import entropy_pooling as ep\n",
    "data = ep.views.load()\n",
    "(A,b,C,d) = data\n",
    "#print(A,b)\n",
    "scenarios = pd.read_excel(\"data.xlsx\")\n",
    "sample = scenarios[['US Services PMI','Eurozone Core Inflation']]\n",
    "\n",
    "def weighted_mean(x, w):\n",
    "    \"\"\"Weighted Mean\"\"\"\n",
    "    #print((x).size)\n",
    "    #print((w).size)\n",
    "    return np.sum(np.array(x) * np.array(w)) / np.sum(w)\n",
    "\n",
    "def weighted_std(values, weights):\n",
    "    avg = np.sum(values * weights) / np.sum(weights)\n",
    "    # Fast and numerically precise:\n",
    "    variance = np.sum((values-avg)**2 * weights) / np.sum(weights)\n",
    "    res = np.sqrt(variance)\n",
    "    return pd.DataFrame([res], columns=values.columns).mean() # mean just to format the rows to one\n",
    "\n",
    "def weighted_cov(x,y, weights):\n",
    "    weights = np.asarray(weights.T)[0] # formatting magic\n",
    "    avg_x = np.sum(x * weights) / np.sum(weights)\n",
    "    avg_y = np.sum(y * weights) / np.sum(weights)\n",
    "    res = np.sum((x-avg_x)*(y-avg_y)*weights) / np.sum(weights)\n",
    "    return res\n",
    "\n",
    "def weighted_cov1(x, y, w):\n",
    "    return np.sum(w * np.array(x - weighted_mean(x, w)) * np.array(y - weighted_mean(y, w))) / np.sum(w)\n",
    "\n",
    "def weighted_corr(x, y, w):\n",
    "    return weighted_cov(x, y, w) / np.sqrt(weighted_cov(x, x, w) * weighted_cov(y, y, w))\n",
    "\n",
    "def print_means(scenarios, weights):\n",
    "    means = sample.multiply(weights,axis=0).sum()\n",
    "    print(((1+means/100)**12-1)*100) # out in precentages 0.06 => 6 %\n",
    "\n",
    "def print_vols(scenarios, weights):\n",
    "    print(weighted_std(sample, post) * np.sqrt(12)) # out in precentages 0.06 => 6 %\n",
    "\n",
    "m,n = scenarios.shape\n",
    "pre = np.ones((1,m)).T/m\n",
    "post = ep.entropy_minimizer.full_confidence_posterior(pre, A, b, C, d)\n",
    "post = np.array([post]).T\n",
    "\n",
    "scenarios = pd.read_excel(\"data.xlsx\")\n",
    "sample = scenarios[['US Services PMI','Eurozone Core Inflation']]\n",
    "\n",
    "# Annualized\n",
    "print('\\n-- MEAN VALUES (pre/post) --')\n",
    "print_means(sample, pre)\n",
    "print_means(sample, post)\n",
    "\n",
    "print('\\n-- VOLATILITY (pre/post) --')\n",
    "print_vols(sample, np.ones((1,m)).T/m)\n",
    "print_vols(sample, post)\n",
    "\n",
    "print('\\n-- CORRELATION (pre/post) --')\t\n",
    "print(weighted_corr(sample['Eurozone Core Inflation'], sample['US Services PMI'], pre))\n",
    "print(weighted_corr(sample['Eurozone Core Inflation'], sample['US Services PMI'], post))\n",
    "\n",
    "plt.bar(range(len(post)),np.sort(post.T[0]))\n",
    "plt.ylabel('sorted post weights')\n",
    "plt.show()"
   ]
  },
  {
   "cell_type": "code",
   "execution_count": 2,
   "metadata": {},
   "outputs": [
    {
     "name": "stdout",
     "output_type": "stream",
     "text": [
      "13.5 % of datapoints still active.\n",
      "34.1 datapoints still active.\n"
     ]
    }
   ],
   "source": [
    "# Number of points \"active\" in post\n",
    "# limit the values of w's elements to 1/n, and sum them up => percentage of active points\n",
    "\n",
    "fraction = np.array([post.T[0], 1/post.size + post.T[0]*0]).min(axis=0).sum()\n",
    "if fraction * post.size <= 20:\n",
    "    print('Warning! Small data sample recovered!')\n",
    "print(\"{:.1f} % of datapoints still active.\".format( fraction * 100 ))\n",
    "print(\"{:.1f} datapoints still active.\".format( fraction * post.size ))"
   ]
  },
  {
   "cell_type": "code",
   "execution_count": 3,
   "metadata": {},
   "outputs": [
    {
     "name": "stdout",
     "output_type": "stream",
     "text": [
      "-30\n",
      "<class 'numpy.int64'>\n",
      "-30\n",
      "<class 'numpy.int64'>\n",
      "(array([[ 1.   ,  1.   ,  1.   ,  1.   ,  1.   ,  1.   ,  1.   ,  1.   ,\n",
      "         1.   ,  1.   ,  1.   ,  1.   ,  1.   ,  1.   ,  1.   ,  1.   ,\n",
      "         1.   ,  1.   ,  1.   ,  1.   ,  1.   ,  1.   ,  1.   ,  1.   ,\n",
      "         1.   ,  1.   ,  1.   ,  1.   ,  1.   ,  1.   ,  1.   ,  1.   ,\n",
      "         1.   ,  1.   ,  1.   ,  1.   ,  1.   ,  1.   ,  1.   ,  1.   ,\n",
      "         1.   ,  1.   ,  1.   ,  1.   ,  1.   ,  1.   ,  1.   ,  1.   ,\n",
      "         1.   ,  1.   ,  1.   ,  1.   ,  1.   ,  1.   ,  1.   ,  1.   ,\n",
      "         1.   ,  1.   ,  1.   ,  1.   ,  1.   ,  1.   ,  1.   ,  1.   ,\n",
      "         1.   ,  1.   ,  1.   ,  1.   ,  1.   ,  1.   ,  1.   ,  1.   ,\n",
      "         1.   ,  1.   ,  1.   ,  1.   ,  1.   ,  1.   ,  1.   ,  1.   ,\n",
      "         1.   ,  1.   ,  1.   ,  1.   ,  1.   ,  1.   ,  1.   ,  1.   ,\n",
      "         1.   ,  1.   ,  1.   ,  1.   ,  1.   ,  1.   ,  1.   ,  1.   ,\n",
      "         1.   ,  1.   ,  1.   ,  1.   ,  1.   ,  1.   ,  1.   ,  1.   ,\n",
      "         1.   ,  1.   ,  1.   ,  1.   ,  1.   ,  1.   ,  1.   ,  1.   ,\n",
      "         1.   ,  1.   ,  1.   ,  1.   ,  1.   ,  1.   ,  1.   ,  1.   ,\n",
      "         1.   ,  1.   ,  1.   ,  1.   ,  1.   ,  1.   ,  1.   ,  1.   ,\n",
      "         1.   ,  1.   ,  1.   ,  1.   ,  1.   ,  1.   ,  1.   ,  1.   ,\n",
      "         1.   ,  1.   ,  1.   ,  1.   ,  1.   ,  1.   ,  1.   ,  1.   ,\n",
      "         1.   ,  1.   ,  1.   ,  1.   ,  1.   ,  1.   ,  1.   ,  1.   ,\n",
      "         1.   ,  1.   ,  1.   ,  1.   ,  1.   ,  1.   ,  1.   ,  1.   ,\n",
      "         1.   ,  1.   ,  1.   ,  1.   ,  1.   ,  1.   ,  1.   ,  1.   ,\n",
      "         1.   ,  1.   ,  1.   ,  1.   ,  1.   ,  1.   ,  1.   ,  1.   ,\n",
      "         1.   ,  1.   ,  1.   ,  1.   ,  1.   ,  1.   ,  1.   ,  1.   ,\n",
      "         1.   ,  1.   ,  1.   ,  1.   ,  1.   ,  1.   ,  1.   ,  1.   ,\n",
      "         1.   ,  1.   ,  1.   ,  1.   ,  1.   ,  1.   ,  1.   ,  1.   ,\n",
      "         1.   ,  1.   ,  1.   ,  1.   ,  1.   ,  1.   ,  1.   ,  1.   ,\n",
      "         1.   ,  1.   ,  1.   ,  1.   ,  1.   ,  1.   ,  1.   ,  1.   ,\n",
      "         1.   ,  1.   ,  1.   ,  1.   ,  1.   ,  1.   ,  1.   ,  1.   ,\n",
      "         1.   ,  1.   ,  1.   ,  1.   ,  1.   ,  1.   ,  1.   ,  1.   ,\n",
      "         1.   ,  1.   ,  1.   ,  1.   ,  1.   ,  1.   ,  1.   ,  1.   ,\n",
      "         1.   ,  1.   ,  1.   ,  1.   ,  1.   ,  1.   ,  1.   ,  1.   ,\n",
      "         1.   ,  1.   ,  1.   ,  1.   ],\n",
      "       [ 0.004,  0.   ,  0.003,  0.005,  0.003, -0.004,  0.003,  0.002,\n",
      "         0.005,  0.01 ,  0.001, -0.005,  0.004, -0.005,  0.001,  0.002,\n",
      "        -0.006, -0.003,  0.003,  0.   ,  0.007,  0.011,  0.004, -0.017,\n",
      "         0.004, -0.005,  0.001,  0.004,  0.002, -0.006,  0.004,  0.   ,\n",
      "         0.009,  0.013,  0.003, -0.015,  0.004, -0.008,  0.001,  0.003,\n",
      "         0.002, -0.004,  0.   ,  0.005,  0.004,  0.015,  0.004, -0.017,\n",
      "         0.004, -0.005, -0.002,  0.004,  0.003, -0.005,  0.003,  0.   ,\n",
      "         0.008,  0.014,  0.004, -0.017,  0.004, -0.006,  0.001,  0.005,\n",
      "         0.002, -0.006,  0.   ,  0.003,  0.002,  0.016,  0.004, -0.018,\n",
      "         0.004, -0.006,  0.002,  0.005,  0.003, -0.006,  0.   ,  0.002,\n",
      "         0.005,  0.014,  0.005, -0.018,  0.004, -0.001,  0.   ,  0.006,\n",
      "         0.003, -0.008,  0.001, -0.001,  0.003,  0.015,  0.005, -0.017,\n",
      "         0.003,  0.   ,  0.001,  0.007,  0.002, -0.009,  0.001,  0.002,\n",
      "         0.   ,  0.017,  0.003, -0.018,  0.005, -0.001,  0.002,  0.008,\n",
      "         0.002, -0.008,  0.001,  0.   ,  0.005,  0.015,  0.004, -0.017,\n",
      "         0.004, -0.001,  0.003,  0.008,  0.003, -0.009,  0.001,  0.   ,\n",
      "         0.005,  0.014,  0.004, -0.016,  0.004, -0.001,  0.003,  0.004,\n",
      "         0.003, -0.006,  0.   ,  0.001,  0.002,  0.011,  0.004, -0.016,\n",
      "         0.005, -0.001,  0.003,  0.002,  0.003, -0.006,  0.   ,  0.   ,\n",
      "         0.005,  0.007,  0.005, -0.013,  0.004,  0.   ,  0.004,  0.003,\n",
      "         0.003, -0.005,  0.001,  0.003,  0.002,  0.01 ,  0.004, -0.011,\n",
      "         0.005,  0.001,  0.003,  0.003,  0.002, -0.004,  0.   ,  0.002,\n",
      "         0.005,  0.007,  0.004, -0.009,  0.005,  0.   ,  0.003,  0.004,\n",
      "         0.001, -0.004,  0.001,  0.001,  0.005,  0.007,  0.003, -0.011,\n",
      "         0.005,  0.   ,  0.003,  0.003,  0.002, -0.004,  0.   ,  0.003,\n",
      "         0.003,  0.006,  0.002, -0.01 ,  0.005,  0.   ,  0.002,  0.002,\n",
      "         0.002, -0.003,  0.002,  0.001,  0.005,  0.005,  0.004, -0.007,\n",
      "         0.004,  0.   ,  0.002,  0.003,  0.001, -0.002,  0.001,  0.001,\n",
      "         0.004,  0.006,  0.003, -0.008,  0.005,  0.001,  0.002,  0.002,\n",
      "         0.001, -0.001,  0.001,  0.003,  0.003,  0.006,  0.003, -0.005,\n",
      "         0.006,  0.001,  0.003,  0.002,  0.001,  0.   ,  0.002,  0.001,\n",
      "         0.005,  0.005,  0.001, -0.006]]), array([[ 1.],\n",
      "       [nan]]), array([], shape=(0, 252), dtype=float64), array([], shape=(0, 1), dtype=float64))\n"
     ]
    },
    {
     "name": "stderr",
     "output_type": "stream",
     "text": [
      "c:\\Users\\lapam\\Documents\\Git\\entropy-poolin\\entropy_pooling\\views.py:104: RuntimeWarning: invalid value encountered in power\n"
     ]
    }
   ],
   "source": [
    "import numpy as np\n",
    "import pandas as pd\n",
    "import matplotlib.pyplot as plt\n",
    "import entropy_pooling as ep\n",
    "\n",
    "data = ep.views.load_debug()\n",
    "print(data)"
   ]
  },
  {
   "cell_type": "code",
   "execution_count": null,
   "metadata": {},
   "outputs": [],
   "source": []
  }
 ],
 "metadata": {
  "interpreter": {
   "hash": "d5c43d4174ac5c1b362963af5a264445b72e362a07bf85e73ec852153795a88c"
  },
  "kernelspec": {
   "display_name": "Python 3.9.12 64-bit (windows store)",
   "language": "python",
   "name": "python3"
  },
  "language_info": {
   "codemirror_mode": {
    "name": "ipython",
    "version": 3
   },
   "file_extension": ".py",
   "mimetype": "text/x-python",
   "name": "python",
   "nbconvert_exporter": "python",
   "pygments_lexer": "ipython3",
   "version": "3.9.12"
  },
  "orig_nbformat": 4
 },
 "nbformat": 4,
 "nbformat_minor": 2
}
