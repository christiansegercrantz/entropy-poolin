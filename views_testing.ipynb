{
 "cells": [
  {
   "cell_type": "code",
   "execution_count": 7,
   "metadata": {},
   "outputs": [
    {
     "name": "stdout",
     "output_type": "stream",
     "text": [
      "     pcost       dcost       gap    pres   dres\n",
      " 0: -1.0180e-01 -1.0179e-01  4e-03  1e+00  2e-18\n",
      " 1: -1.0180e-01 -1.0179e-01  4e-05  1e-02  0e+00\n",
      " 2: -1.0179e-01 -1.0178e-01  6e-07  2e-03  0e+00\n",
      " 3: -1.0178e-01 -1.0178e-01  9e-08  2e-18  7e-18\n",
      "Optimal solution found.\n",
      "\n",
      "-- MEAN VALUES (pre/post) --\n",
      "iVol US Equities       -0.457609\n",
      "EUR Government Bonds    4.420631\n",
      "dtype: float64\n",
      "iVol US Equities       -9.977940\n",
      "EUR Government Bonds    4.240022\n",
      "dtype: float64\n",
      "\n",
      "-- VOLATILITY (pre/post) --\n",
      "iVol US Equities        17.398446\n",
      "EUR Government Bonds     3.932719\n",
      "dtype: float64\n",
      "iVol US Equities        17.398446\n",
      "EUR Government Bonds     3.932719\n",
      "dtype: float64\n"
     ]
    },
    {
     "data": {
      "image/png": "[encoded data removed]",
      "text/plain": [
       "<Figure size 432x288 with 1 Axes>"
      ]
     },
     "metadata": {
      "needs_background": "light"
     },
     "output_type": "display_data"
    }
   ],
   "source": [
    "import numpy as np\n",
    "import pandas as pd\n",
    "import matplotlib.pyplot as plt\n",
    "import entropy_pooling as ep\n",
    "data = ep.views.load_debug(data = pd.read_excel(\"Data/data.xlsx\"), views_subsheet_name = 7, views_sheet_name = \"Data/sample_portfolio2_views.xlsx\")\n",
    "(A,b,C,d) = data\n",
    "#print(A,b)\n",
    "scenarios = pd.read_excel(\"Data/data.xlsx\")\n",
    "sample = scenarios[['iVol US Equities','EUR Government Bonds']]\n",
    "\n",
    "def weighted_mean(x, w):\n",
    "    \"\"\"Weighted Mean\"\"\"\n",
    "    #print((x).size)\n",
    "    #print((w).size)\n",
    "    return np.sum(np.array(x) * np.array(w)) / np.sum(w)\n",
    "\n",
    "def weighted_std(values, weights):\n",
    "    avg = np.sum(values * weights) / np.sum(weights)\n",
    "    # Fast and numerically precise:\n",
    "    variance = np.sum((values-avg)**2 * weights) / np.sum(weights)\n",
    "    res = np.sqrt(variance)\n",
    "    return pd.DataFrame([res], columns=values.columns).mean() # mean just to format the rows to one\n",
    "\n",
    "def weighted_cov(x,y, weights):\n",
    "    weights = np.asarray(weights.T)[0] # formatting magic\n",
    "    avg_x = np.sum(x * weights) / np.sum(weights)\n",
    "    avg_y = np.sum(y * weights) / np.sum(weights)\n",
    "    res = np.sum((x-avg_x)*(y-avg_y)*weights) / np.sum(weights)\n",
    "    return res\n",
    "\n",
    "def weighted_cov1(x, y, w):\n",
    "    return np.sum(w * np.array(x - weighted_mean(x, w)) * np.array(y - weighted_mean(y, w))) / np.sum(w)\n",
    "\n",
    "def weighted_corr(x, y, w):\n",
    "    return weighted_cov(x, y, w) / np.sqrt(weighted_cov(x, x, w) * weighted_cov(y, y, w))\n",
    "\n",
    "def print_means(scenarios, weights):\n",
    "    means = sample.multiply(weights,axis=0).sum()\n",
    "    print(((1+means/100)**12-1)*100) # out in precentages 0.06 => 6 %\n",
    "\n",
    "def print_vols(scenarios, weights):\n",
    "    print(weighted_std(sample, post) * np.sqrt(12)) # out in precentages 0.06 => 6 %\n",
    "\n",
    "m,n = scenarios.shape\n",
    "pre = np.ones((1,m)).T/m\n",
    "post = ep.entropy_minimizer.full_confidence_posterior(pre, A, b, C, d)\n",
    "post = np.array([post]).T\n",
    "\n",
    "# Annualized\n",
    "print('\\n-- MEAN VALUES (pre/post) --')\n",
    "print_means(sample, pre)\n",
    "print_means(sample, post)\n",
    "\n",
    "#print('\\n-- VOLATILITY (pre/post) --')\n",
    "#print_vols(sample, pre)\n",
    "#print_vols(sample, post)\n",
    "\n",
    "#print('\\n-- CORRELATION (pre/post) --')\t\n",
    "#print(weighted_corr(sample['Eurozone Core Inflation'], sample['US Services PMI'], pre))\n",
    "#print(weighted_corr(sample['Eurozone Core Inflation'], sample['US Services PMI'], post))\n",
    "\n",
    "plt.bar(range(len(post)),np.sort(post.T[0]))\n",
    "plt.ylabel('sorted post weights')\n",
    "plt.show()\n",
    "plt.savefig('line_plot_{}.pdf'.format(index))"
   ]
  },
  {
   "cell_type": "code",
   "execution_count": 2,
   "metadata": {},
   "outputs": [
    {
     "name": "stdout",
     "output_type": "stream",
     "text": [
      "Warning! Small data sample recovered!\n",
      "0.0 % of datapoints still active.\n",
      "0.0 datapoints still active.\n"
     ]
    }
   ],
   "source": [
    "# Number of points \"active\" in post\n",
    "# limit the values of w's elements to 1/n, and sum them up => percentage of active points\n",
    "\n",
    "fraction = np.array([post.T[0], 1/post.size + post.T[0]*0]).min(axis=0).sum()\n",
    "if fraction * post.size <= 20:\n",
    "    print('Warning! Small data sample recovered!')\n",
    "print(\"{:.1f} % of datapoints still active.\".format( fraction * 100 ))\n",
    "print(\"{:.1f} datapoints still active.\".format( fraction * post.size ))"
   ]
  },
  {
   "cell_type": "code",
   "execution_count": 3,
   "metadata": {},
   "outputs": [
    {
     "name": "stdout",
     "output_type": "stream",
     "text": [
      "-30\n",
      "<class 'numpy.int64'>\n",
      "-30\n",
      "<class 'numpy.int64'>\n",
      "(array([[ 1.00000000e+00,  1.00000000e+00,  1.00000000e+00,\n",
      "         1.00000000e+00,  1.00000000e+00,  1.00000000e+00,\n",
      "         1.00000000e+00,  1.00000000e+00,  1.00000000e+00,\n",
      "         1.00000000e+00,  1.00000000e+00,  1.00000000e+00,\n",
      "         1.00000000e+00,  1.00000000e+00,  1.00000000e+00,\n",
      "         1.00000000e+00,  1.00000000e+00,  1.00000000e+00,\n",
      "         1.00000000e+00,  1.00000000e+00,  1.00000000e+00,\n",
      "         1.00000000e+00,  1.00000000e+00,  1.00000000e+00,\n",
      "         1.00000000e+00,  1.00000000e+00,  1.00000000e+00,\n",
      "         1.00000000e+00,  1.00000000e+00,  1.00000000e+00,\n",
      "         1.00000000e+00,  1.00000000e+00,  1.00000000e+00,\n",
      "         1.00000000e+00,  1.00000000e+00,  1.00000000e+00,\n",
      "         1.00000000e+00,  1.00000000e+00,  1.00000000e+00,\n",
      "         1.00000000e+00,  1.00000000e+00,  1.00000000e+00,\n",
      "         1.00000000e+00,  1.00000000e+00,  1.00000000e+00,\n",
      "         1.00000000e+00,  1.00000000e+00,  1.00000000e+00,\n",
      "         1.00000000e+00,  1.00000000e+00,  1.00000000e+00,\n",
      "         1.00000000e+00,  1.00000000e+00,  1.00000000e+00,\n",
      "         1.00000000e+00,  1.00000000e+00,  1.00000000e+00,\n",
      "         1.00000000e+00,  1.00000000e+00,  1.00000000e+00,\n",
      "         1.00000000e+00,  1.00000000e+00,  1.00000000e+00,\n",
      "         1.00000000e+00,  1.00000000e+00,  1.00000000e+00,\n",
      "         1.00000000e+00,  1.00000000e+00,  1.00000000e+00,\n",
      "         1.00000000e+00,  1.00000000e+00,  1.00000000e+00,\n",
      "         1.00000000e+00,  1.00000000e+00,  1.00000000e+00,\n",
      "         1.00000000e+00,  1.00000000e+00,  1.00000000e+00,\n",
      "         1.00000000e+00,  1.00000000e+00,  1.00000000e+00,\n",
      "         1.00000000e+00,  1.00000000e+00,  1.00000000e+00,\n",
      "         1.00000000e+00,  1.00000000e+00,  1.00000000e+00,\n",
      "         1.00000000e+00,  1.00000000e+00,  1.00000000e+00,\n",
      "         1.00000000e+00,  1.00000000e+00,  1.00000000e+00,\n",
      "         1.00000000e+00,  1.00000000e+00,  1.00000000e+00,\n",
      "         1.00000000e+00,  1.00000000e+00,  1.00000000e+00,\n",
      "         1.00000000e+00,  1.00000000e+00,  1.00000000e+00,\n",
      "         1.00000000e+00,  1.00000000e+00,  1.00000000e+00,\n",
      "         1.00000000e+00,  1.00000000e+00,  1.00000000e+00,\n",
      "         1.00000000e+00,  1.00000000e+00,  1.00000000e+00,\n",
      "         1.00000000e+00,  1.00000000e+00,  1.00000000e+00,\n",
      "         1.00000000e+00,  1.00000000e+00,  1.00000000e+00,\n",
      "         1.00000000e+00,  1.00000000e+00,  1.00000000e+00,\n",
      "         1.00000000e+00,  1.00000000e+00,  1.00000000e+00,\n",
      "         1.00000000e+00,  1.00000000e+00,  1.00000000e+00,\n",
      "         1.00000000e+00,  1.00000000e+00,  1.00000000e+00,\n",
      "         1.00000000e+00,  1.00000000e+00,  1.00000000e+00,\n",
      "         1.00000000e+00,  1.00000000e+00,  1.00000000e+00,\n",
      "         1.00000000e+00,  1.00000000e+00,  1.00000000e+00,\n",
      "         1.00000000e+00,  1.00000000e+00,  1.00000000e+00,\n",
      "         1.00000000e+00,  1.00000000e+00,  1.00000000e+00,\n",
      "         1.00000000e+00,  1.00000000e+00,  1.00000000e+00,\n",
      "         1.00000000e+00,  1.00000000e+00,  1.00000000e+00,\n",
      "         1.00000000e+00,  1.00000000e+00,  1.00000000e+00,\n",
      "         1.00000000e+00,  1.00000000e+00,  1.00000000e+00,\n",
      "         1.00000000e+00,  1.00000000e+00,  1.00000000e+00,\n",
      "         1.00000000e+00,  1.00000000e+00,  1.00000000e+00,\n",
      "         1.00000000e+00,  1.00000000e+00,  1.00000000e+00,\n",
      "         1.00000000e+00,  1.00000000e+00,  1.00000000e+00,\n",
      "         1.00000000e+00,  1.00000000e+00,  1.00000000e+00,\n",
      "         1.00000000e+00,  1.00000000e+00,  1.00000000e+00,\n",
      "         1.00000000e+00,  1.00000000e+00,  1.00000000e+00,\n",
      "         1.00000000e+00,  1.00000000e+00,  1.00000000e+00,\n",
      "         1.00000000e+00,  1.00000000e+00,  1.00000000e+00,\n",
      "         1.00000000e+00,  1.00000000e+00,  1.00000000e+00,\n",
      "         1.00000000e+00,  1.00000000e+00,  1.00000000e+00,\n",
      "         1.00000000e+00,  1.00000000e+00,  1.00000000e+00,\n",
      "         1.00000000e+00,  1.00000000e+00,  1.00000000e+00,\n",
      "         1.00000000e+00,  1.00000000e+00,  1.00000000e+00,\n",
      "         1.00000000e+00,  1.00000000e+00,  1.00000000e+00,\n",
      "         1.00000000e+00,  1.00000000e+00,  1.00000000e+00,\n",
      "         1.00000000e+00,  1.00000000e+00,  1.00000000e+00,\n",
      "         1.00000000e+00,  1.00000000e+00,  1.00000000e+00,\n",
      "         1.00000000e+00,  1.00000000e+00,  1.00000000e+00,\n",
      "         1.00000000e+00,  1.00000000e+00,  1.00000000e+00,\n",
      "         1.00000000e+00,  1.00000000e+00,  1.00000000e+00,\n",
      "         1.00000000e+00,  1.00000000e+00,  1.00000000e+00,\n",
      "         1.00000000e+00,  1.00000000e+00,  1.00000000e+00,\n",
      "         1.00000000e+00,  1.00000000e+00,  1.00000000e+00,\n",
      "         1.00000000e+00,  1.00000000e+00,  1.00000000e+00,\n",
      "         1.00000000e+00,  1.00000000e+00,  1.00000000e+00,\n",
      "         1.00000000e+00,  1.00000000e+00,  1.00000000e+00,\n",
      "         1.00000000e+00,  1.00000000e+00,  1.00000000e+00,\n",
      "         1.00000000e+00,  1.00000000e+00,  1.00000000e+00,\n",
      "         1.00000000e+00,  1.00000000e+00,  1.00000000e+00,\n",
      "         1.00000000e+00,  1.00000000e+00,  1.00000000e+00,\n",
      "         1.00000000e+00,  1.00000000e+00,  1.00000000e+00],\n",
      "       [ 1.17763274e-03,  1.90344350e-02,  4.89982729e-03,\n",
      "         2.43919892e-02,  8.13900590e-03, -5.01197504e-03,\n",
      "         3.31791118e-02, -1.52212978e-02, -1.97229327e-02,\n",
      "         3.85714286e-02,  6.02636783e-03,  1.54878847e-03,\n",
      "        -2.02307370e-02, -2.90405255e-02,  7.31345448e-03,\n",
      "         2.00127346e-02, -1.94148412e-02, -5.14244259e-02,\n",
      "        -8.98090262e-03, -1.33272478e-02,  1.38896746e-02,\n",
      "         1.05465264e-02,  1.00398449e-02, -6.29813609e-03,\n",
      "        -1.36983119e-02,  7.01578192e-03, -2.22131388e-02,\n",
      "         1.15578219e-02,  1.04868183e-02,  2.01144817e-02,\n",
      "        -1.42648402e-02,  4.10164958e-03,  9.26742735e-03,\n",
      "         2.64552810e-02,  9.72606569e-03, -1.33430714e-02,\n",
      "        -9.25439604e-03, -8.44200849e-03,  2.61637366e-02,\n",
      "         2.82761593e-03,  9.61269352e-03, -4.59910989e-03,\n",
      "         7.69691268e-04,  3.68761384e-02,  2.39610516e-02,\n",
      "         4.33901919e-03,  2.17219269e-02, -5.10691379e-02,\n",
      "        -4.48454301e-03, -2.71535291e-02,  1.22204165e-02,\n",
      "         1.20604534e-02, -2.74227326e-03, -4.14081918e-02,\n",
      "        -1.31864105e-02, -3.20330427e-02, -1.48126173e-02,\n",
      "         6.81391831e-03,  2.45593628e-02, -4.37186460e-02,\n",
      "         1.07995089e-02,  2.96980239e-02,  2.36079217e-02,\n",
      "        -1.90087829e-03,  3.43189547e-03, -1.21228165e-02,\n",
      "         2.33560905e-03,  3.08578290e-02, -4.23901582e-03,\n",
      "        -3.06292652e-02,  1.22241714e-04, -1.51460136e-02,\n",
      "        -2.41116895e-02,  3.40690532e-02,  1.72992753e-02,\n",
      "         8.03273571e-03, -1.76664239e-02,  8.62276846e-03,\n",
      "        -1.46550155e-02,  2.32045617e-02, -4.09416643e-02,\n",
      "         5.55326902e-02,  1.34137809e-02,  4.87052405e-02,\n",
      "         3.24291680e-02,  4.82834331e-03,  8.39205130e-03,\n",
      "         4.41510813e-02,  2.22681105e-02,  1.40566754e-02,\n",
      "        -3.18041804e-03,  1.57303671e-02, -4.11743772e-03,\n",
      "         1.73909578e-02, -1.84317070e-02,  1.70042931e-03,\n",
      "        -8.18387168e-03, -5.15312132e-04, -3.21379463e-03,\n",
      "        -1.60676146e-02,  8.01413321e-03, -3.14442736e-02,\n",
      "         1.53781060e-04,  1.48341434e-02, -2.72252126e-02,\n",
      "         3.52277705e-02,  4.14417115e-02, -4.72579398e-02,\n",
      "        -1.09402433e-02, -3.00617284e-03, -5.77604977e-03,\n",
      "        -1.43388187e-02, -2.03504551e-02,  2.06571406e-02,\n",
      "        -2.34237768e-02,  6.60170708e-02,  1.27943491e-02,\n",
      "         1.36491557e-02, -1.44194436e-02, -2.64900085e-02,\n",
      "         4.00702068e-02,  2.87301198e-02, -3.21833869e-02,\n",
      "         7.63415687e-02,  5.01416863e-03, -1.82857537e-03,\n",
      "        -6.36315643e-03,  2.77571419e-02, -4.08398079e-02,\n",
      "        -1.14961611e-02, -4.17876442e-03, -3.91619845e-02,\n",
      "        -2.68865439e-02,  6.81188069e-02, -1.99573126e-02,\n",
      "        -7.12365931e-02,  3.15013791e-02, -7.25141363e-02,\n",
      "         5.52575979e-03,  7.53192418e-02,  1.79881569e-02,\n",
      "         1.98768249e-02,  2.07351944e-02,  1.59810069e-02,\n",
      "         5.05848051e-02, -2.04306678e-02, -2.39617486e-03,\n",
      "        -1.93478443e-02, -2.40085572e-03, -2.19623744e-02,\n",
      "         8.82893064e-03, -7.01436130e-02,  6.50943396e-03,\n",
      "        -3.88599732e-02,  1.62385858e-02,  6.98859781e-02,\n",
      "        -9.68588764e-02,  2.75027503e-03,  1.00934431e-01,\n",
      "         4.25965379e-02,  6.26039223e-02,  4.64773088e-03,\n",
      "        -1.19227208e-02,  7.35283574e-03,  1.25143147e-02,\n",
      "        -3.01212201e-02, -1.73982908e-02, -2.96441840e-02,\n",
      "         8.00690221e-03, -9.07800097e-03, -1.24202005e-02,\n",
      "        -4.37351431e-02,  5.94621456e-03, -1.45605199e-02,\n",
      "        -6.54129191e-03,  1.62878077e-02, -1.70158754e-02,\n",
      "        -2.44893794e-03, -1.11166360e-02,  3.50284155e-03,\n",
      "         8.39827821e-03, -3.76116596e-02, -3.94334859e-03,\n",
      "         1.48483571e-02, -2.60303909e-03, -2.12368071e-03,\n",
      "         2.48321624e-03, -1.28504155e-02, -3.76638059e-02,\n",
      "        -9.52545927e-03,  2.23320171e-02, -3.69093594e-02,\n",
      "        -1.74753987e-04,  1.70113409e-02,  5.82720772e-03,\n",
      "         2.89193261e-02, -1.63947868e-02, -5.23885035e-03,\n",
      "         1.59297789e-02,  4.72010409e-02,  1.00194384e-02,\n",
      "         2.59576656e-02, -1.24949766e-02,  2.79961635e-02,\n",
      "        -1.57093908e-02, -3.75839975e-02, -2.71090383e-02,\n",
      "        -1.87666420e-02, -1.16450620e-02,  1.18360656e-02,\n",
      "         1.01542501e-03, -1.63622705e-02,  3.22815849e-02,\n",
      "         1.91679340e-02,  2.79788428e-03,  2.28940056e-03,\n",
      "        -4.59333111e-02, -3.47623566e-02,  7.49026336e-03,\n",
      "        -5.82709395e-02,  2.30797721e-02,  2.23224461e-02,\n",
      "         2.40821453e-02, -5.26480687e-02, -2.06449840e-02,\n",
      "        -3.99352272e-03, -6.21842496e-04, -3.43057568e-02,\n",
      "        -5.02147239e-02, -3.03918005e-03, -1.75025340e-03,\n",
      "        -2.37748142e-03, -3.80769231e-03,  1.30191629e-02,\n",
      "        -6.03359024e-02, -3.44236535e-02, -3.00388895e-02,\n",
      "         3.35449735e-03, -8.63602513e-03,  2.88392355e-02,\n",
      "         1.36974565e-02,  5.55302610e-03,  1.49596226e-02,\n",
      "         2.98651759e-03, -3.99630306e-02, -3.22732627e-02,\n",
      "        -2.37714421e-03,  5.02633000e-02, -9.14394890e-03,\n",
      "         5.57795583e-02,  1.48799915e-02,  4.70775432e-04]]), array([[1.       ],\n",
      "       [0.3239345]]), array([], shape=(0, 252), dtype=float64), array([], shape=(0, 1), dtype=float64))\n"
     ]
    }
   ],
   "source": [
    "import numpy as np\n",
    "import pandas as pd\n",
    "import matplotlib.pyplot as plt\n",
    "import entropy_pooling as ep\n",
    "\n",
    "data = ep.views.load_debug()\n",
    "print(data)"
   ]
  },
  {
   "cell_type": "code",
   "execution_count": 42,
   "metadata": {},
   "outputs": [
    {
     "name": "stdout",
     "output_type": "stream",
     "text": [
      "     pcost       dcost       gap    pres   dres\n",
      " 0: -1.0163e-01 -1.0125e-01  2e-02  1e+00  3e-18\n",
      " 1: -1.0161e-01 -1.0124e-01  2e-04  3e-02  7e-18\n",
      " 2: -1.0104e-01 -1.0106e-01  2e-05  0e+00  0e+00\n",
      " 3: -1.0106e-01 -1.0106e-01  2e-07  0e+00  7e-18\n",
      " 4: -1.0106e-01 -1.0106e-01  2e-09  0e+00  1e-17\n",
      "Optimal solution found.\n",
      "     pcost       dcost       gap    pres   dres\n",
      " 0: -1.0172e-01 -1.0153e-01  1e-02  1e+00  2e-18\n",
      " 1: -1.0172e-01 -1.0153e-01  1e-04  2e-02  2e-18\n",
      " 2: -1.0147e-01 -1.0144e-01  3e-06  1e-03  0e+00\n",
      " 3: -1.0144e-01 -1.0144e-01  3e-08  1e-05  6e-17\n",
      " 4: -1.0144e-01 -1.0144e-01  3e-10  1e-07  1e-17\n",
      " 5: -1.0144e-01 -1.0144e-01  3e-12  1e-09  1e-17\n",
      "Optimal solution found.\n",
      "     pcost       dcost       gap    pres   dres\n",
      " 0: -1.0181e-01 -1.0181e-01  1e-03  1e+00  2e-18\n",
      " 1: -1.0181e-01 -1.0181e-01  1e-05  1e-02  0e+00\n",
      " 2: -1.0181e-01 -1.0181e-01  1e-07  1e-03  2e-19\n",
      " 3: -1.0181e-01 -1.0181e-01  8e-08  0e+00  2e-18\n",
      "Optimal solution found.\n",
      "     pcost       dcost       gap    pres   dres\n",
      " 0: -1.0179e-01 -1.0174e-01  7e-03  1e+00  2e-18\n",
      " 1: -1.0179e-01 -1.0174e-01  7e-05  2e-02  2e-18\n",
      " 2: -1.0174e-01 -1.0171e-01  1e-06  3e-03  0e+00\n",
      " 3: -1.0171e-01 -1.0171e-01  6e-08  0e+00  6e-17\n",
      "Optimal solution found.\n",
      "     pcost       dcost       gap    pres   dres\n",
      " 0: -1.0181e-01 -1.0197e-01  2e-04  0e+00  1e+00\n",
      " 1: -1.0181e-01 -1.0181e-01  2e-06  0e+00  1e-02\n",
      " 2: -1.0181e-01 -1.0181e-01  2e-08  0e+00  3e-04\n",
      " 3: -1.0181e-01 -1.0181e-01  3e-10  0e+00  5e-06\n",
      " 4: -1.0181e-01 -1.0181e-01  3e-12  0e+00  5e-08\n",
      "Optimal solution found.\n",
      "     pcost       dcost       gap    pres   dres\n",
      " 0: -1.0181e-01 -1.0181e-01  1e-03  1e+00  0e+00\n",
      " 1: -1.0181e-01 -1.0181e-01  1e-05  1e-02  0e+00\n",
      " 2: -1.0181e-01 -1.0181e-01  1e-07  9e-04  2e-19\n",
      " 3: -1.0181e-01 -1.0181e-01  7e-08  0e+00  4e-19\n",
      "Optimal solution found.\n",
      "     pcost       dcost       gap    pres   dres\n",
      " 0: -1.0180e-01 -1.0179e-01  4e-03  1e+00  0e+00\n",
      " 1: -1.0180e-01 -1.0179e-01  4e-05  1e-02  9e-19\n",
      " 2: -1.0179e-01 -1.0178e-01  6e-07  2e-03  0e+00\n",
      " 3: -1.0178e-01 -1.0178e-01  9e-08  0e+00  3e-18\n",
      "Optimal solution found.\n",
      "     pcost       dcost       gap    pres   dres\n",
      " 0: -1.0180e-01 -1.0179e-01  4e-03  1e+00  2e-18\n",
      " 1: -1.0180e-01 -1.0179e-01  4e-05  1e-02  0e+00\n",
      " 2: -1.0179e-01 -1.0178e-01  6e-07  2e-03  0e+00\n",
      " 3: -1.0178e-01 -1.0178e-01  9e-08  2e-18  7e-18\n",
      "Optimal solution found.\n"
     ]
    },
    {
     "data": {
      "text/plain": [
       "<Figure size 419.328x245.376 with 0 Axes>"
      ]
     },
     "metadata": {},
     "output_type": "display_data"
    },
    {
     "data": {
      "text/plain": [
       "<Figure size 419.328x245.376 with 0 Axes>"
      ]
     },
     "metadata": {},
     "output_type": "display_data"
    },
    {
     "data": {
      "text/plain": [
       "<Figure size 419.328x245.376 with 0 Axes>"
      ]
     },
     "metadata": {},
     "output_type": "display_data"
    },
    {
     "data": {
      "text/plain": [
       "<Figure size 419.328x245.376 with 0 Axes>"
      ]
     },
     "metadata": {},
     "output_type": "display_data"
    },
    {
     "data": {
      "text/plain": [
       "<Figure size 419.328x245.376 with 0 Axes>"
      ]
     },
     "metadata": {},
     "output_type": "display_data"
    },
    {
     "data": {
      "text/plain": [
       "<Figure size 419.328x245.376 with 0 Axes>"
      ]
     },
     "metadata": {},
     "output_type": "display_data"
    },
    {
     "data": {
      "text/plain": [
       "<Figure size 419.328x245.376 with 0 Axes>"
      ]
     },
     "metadata": {},
     "output_type": "display_data"
    },
    {
     "data": {
      "text/plain": [
       "<Figure size 419.328x245.376 with 0 Axes>"
      ]
     },
     "metadata": {},
     "output_type": "display_data"
    }
   ],
   "source": [
    "titles = ['Rates up', 'Rates down', 'Eq up', 'Eq down', 'Inflation up', 'Inflation down', 'Vix up', 'Vix down']\n",
    "for i in range(8):\n",
    "    data = ep.views.load_debug(data = pd.read_excel(\"Data/data.xlsx\"), views_subsheet_name = i, views_sheet_name = \"Data/sample_portfolio2_views.xlsx\")\n",
    "    (A,b,C,d) = data\n",
    "    scenarios = pd.read_excel(\"Data/data.xlsx\")\n",
    "    m,n = scenarios.shape\n",
    "    pre = np.ones((1,m)).T/m\n",
    "    post = ep.entropy_minimizer.full_confidence_posterior(pre, A, b, C, d)\n",
    "    post = np.array([post]).T\n",
    "    plt_1 = plt.figure(figsize=(6.4*0.7*1.3, 4.8*0.71))\n",
    "    plt.bar(range(len(post)),np.sort(post.T[0]),width=1, label='Posterior distribution (sorted)',color='lightskyblue')\n",
    "    plt.plot([0,252],[1/253,1/253],'k--', label=\"Prior disribution\")\n",
    "    plt.ylabel('Distribution (weight)')\n",
    "    plt.xlabel('Scenario index (sorted)')\n",
    "    if i in [2,4]:\n",
    "        plt.legend(loc=3)\n",
    "    else:\n",
    "        plt.legend(loc=2)\n",
    "    plt.title(titles[i], fontsize= 15, fontweight='bold')\n",
    "    #plt.show()\n",
    "    plt.savefig('plots/post_dist_{}.pdf'.format(i+1))\n",
    "    plt.clf()"
   ]
  },
  {
   "cell_type": "code",
   "execution_count": null,
   "metadata": {},
   "outputs": [],
   "source": []
  }
 ],
 "metadata": {
  "interpreter": {
   "hash": "d5c43d4174ac5c1b362963af5a264445b72e362a07bf85e73ec852153795a88c"
  },
  "kernelspec": {
   "display_name": "Python 3.9.12 64-bit (windows store)",
   "language": "python",
   "name": "python3"
  },
  "language_info": {
   "codemirror_mode": {
    "name": "ipython",
    "version": 3
   },
   "file_extension": ".py",
   "mimetype": "text/x-python",
   "name": "python",
   "nbconvert_exporter": "python",
   "pygments_lexer": "ipython3",
   "version": "3.9.12"
  },
  "orig_nbformat": 4
 },
 "nbformat": 4,
 "nbformat_minor": 2
}
