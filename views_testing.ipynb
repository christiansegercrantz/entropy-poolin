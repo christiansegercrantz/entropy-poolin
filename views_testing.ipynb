{
 "cells": [
  {
   "cell_type": "code",
   "execution_count": 1,
   "metadata": {},
   "outputs": [
    {
     "name": "stdout",
     "output_type": "stream",
     "text": [
      "\n",
      "-- MEAN VALUES (pre/post) --\n",
      "iVol US Equities                        -0.038214\n",
      "EUR Government Bonds                     0.361126\n",
      "Germany 10-Year Government Bond Yield   -1.995238\n",
      "Eurozone Core Inflation                  0.114683\n",
      "dtype: float64\n",
      "iVol US Equities                        -0.045549\n",
      "EUR Government Bonds                     0.362191\n",
      "Germany 10-Year Government Bond Yield   -2.001234\n",
      "Eurozone Core Inflation                  0.113703\n",
      "dtype: float64\n",
      "\n",
      "-- CORRELATION (pre/post) --\n",
      "0.07185714983785937\n",
      "0.10051018580896107\n"
     ]
    },
    {
     "data": {
      "image/png": "[encoded data removed]",
      "text/plain": [
       "<Figure size 432x288 with 1 Axes>"
      ]
     },
     "metadata": {
      "needs_background": "light"
     },
     "output_type": "display_data"
    }
   ],
   "source": [
    "import numpy as np\n",
    "import pandas as pd\n",
    "import matplotlib.pyplot as plt\n",
    "import entropy_pooling as ep\n",
    "data = ep.views.load_debug(data = pd.read_excel(\"Data/data.xlsx\"), views_subsheet_name = 8, views_sheet_name = \"Data/sample_portfolio2_views.xlsx\")\n",
    "(A,b,C,d) = data\n",
    "#print(A,b)\n",
    "scenarios = pd.read_excel(\"Data/data.xlsx\")\n",
    "sample = scenarios[['iVol US Equities','EUR Government Bonds','Germany 10-Year Government Bond Yield','Eurozone Core Inflation']]\n",
    "\n",
    "def weighted_mean(x, w):\n",
    "    #print((x).size)\n",
    "    #print((w).size)\n",
    "    return np.sum(np.array(x) * np.array(w)) / np.sum(w)\n",
    "\n",
    "def weighted_std(values, weights):\n",
    "    avg = np.sum(values * weights) / np.sum(weights)\n",
    "    # Fast and numerically precise:\n",
    "    variance = np.sum((values-avg)**2 * weights) / np.sum(weights)\n",
    "    res = np.sqrt(variance)\n",
    "    return pd.DataFrame([res], columns=values.columns).mean() # mean just to format the rows to one\n",
    "\n",
    "def weighted_cov(x,y, weights):\n",
    "    weights = np.asarray(weights.T)[0] # formatting magic\n",
    "    avg_x = np.sum(x * weights) / np.sum(weights)\n",
    "    avg_y = np.sum(y * weights) / np.sum(weights)\n",
    "    res = np.sum((x-avg_x)*(y-avg_y)*weights) / np.sum(weights)\n",
    "    return res\n",
    "\n",
    "def weighted_cov1(x, y, w):\n",
    "    return np.sum(w * np.array(x - weighted_mean(x, w)) * np.array(y - weighted_mean(y, w))) / np.sum(w)\n",
    "\n",
    "def weighted_corr(x, y, w):\n",
    "    return weighted_cov(x, y, w) / np.sqrt(weighted_cov(x, x, w) * weighted_cov(y, y, w))\n",
    "\n",
    "def print_means(scenarios, weights):\n",
    "    means = sample.multiply(weights,axis=0).sum()\n",
    "    print(means) # out in precentages 0.06 => 6 %\n",
    "\n",
    "def print_vols(scenarios, weights):\n",
    "    print(weighted_std(sample, weights)) # out in precentages 0.06 => 6 %\n",
    "\n",
    "m,n = scenarios.shape\n",
    "pre = np.ones((1,m)).T/m\n",
    "post = ep.entropy_minimizer.full_confidence_posterior(pre, A, b, C, d)\n",
    "post = np.array([post]).T\n",
    "\n",
    "print('\\n-- MEAN VALUES (pre/post) --')\n",
    "print(sample.mean())\n",
    "#print_means(sample, pre)\n",
    "print_means(sample, post)\n",
    "\n",
    "#print('\\n-- VOLATILITY (pre/post) --')\n",
    "#print_vols(sample, pre)\n",
    "#print_vols(sample, post)\n",
    "\n",
    "print('\\n-- CORRELATION (pre/post) --')\t\n",
    "print(weighted_corr(sample['iVol US Equities'], sample['EUR Government Bonds'], pre))\n",
    "print(weighted_corr(sample['iVol US Equities'], sample['EUR Government Bonds'], post))\n",
    "\n",
    "# Kiva kuva\n",
    "plt.bar(range(len(post)),np.sort(post.T[0]))\n",
    "plt.ylabel('sorted post weights')\n",
    "plt.show()\n",
    "#plt.savefig('line_plot_{}.pdf'.format(index))"
   ]
  },
  {
   "cell_type": "code",
   "execution_count": 2,
   "metadata": {},
   "outputs": [
    {
     "name": "stdout",
     "output_type": "stream",
     "text": [
      "93.6 % of datapoints still active.\n",
      "235.8 datapoints still active.\n"
     ]
    }
   ],
   "source": [
    "# Number of points \"active\" in post\n",
    "# limit the values of w's elements to 1/n, and sum them up => percentage of active points\n",
    "\n",
    "fraction = np.array([post.T[0], 1/post.size + post.T[0]*0]).min(axis=0).sum()\n",
    "if fraction * post.size <= 20:\n",
    "    print('Warning! Small data sample recovered!')\n",
    "print(\"{:.1f} % of datapoints still active.\".format( fraction * 100 ))\n",
    "print(\"{:.1f} datapoints still active.\".format( fraction * post.size ))"
   ]
  },
  {
   "cell_type": "code",
   "execution_count": 7,
   "metadata": {},
   "outputs": [
    {
     "name": "stdout",
     "output_type": "stream",
     "text": [
      "[[1.]] [[1.]]\n"
     ]
    }
   ],
   "source": [
    "print(A.dot(np.ones((1,m)).T/m)  ,b)"
   ]
  },
  {
   "cell_type": "code",
   "execution_count": 4,
   "metadata": {},
   "outputs": [
    {
     "name": "stdout",
     "output_type": "stream",
     "text": [
      "     pcost       dcost       gap    pres   dres\n",
      " 0: -1.0156e+03 -1.0106e+03  2e+00  1e+00  0e+00\n",
      " 1: -1.0075e+03 -1.0080e+03  5e-01  0e+00  4e-17\n",
      " 2: -1.0080e+03 -1.0080e+03  5e-03  0e+00  4e-17\n",
      " 3: -1.0080e+03 -1.0080e+03  5e-05  0e+00  4e-17\n",
      "Optimal solution found.\n",
      "     pcost       dcost       gap    pres   dres\n",
      " 0: -1.0171e+03 -1.0151e+03  1e+00  1e+00  1e-17\n",
      " 1: -1.0143e+03 -1.0140e+03  3e-02  5e-02  2e-17\n",
      " 2: -1.0140e+03 -1.0140e+03  3e-04  4e-04  5e-17\n",
      " 3: -1.0140e+03 -1.0140e+03  3e-06  4e-06  1e-16\n",
      " 4: -1.0140e+03 -1.0140e+03  3e-08  4e-08  1e-16\n",
      "Optimal solution found.\n",
      "     pcost       dcost       gap    pres   dres\n",
      " 0: -1.0181e+03 -1.0181e+03  2e-01  1e+00  1e-17\n",
      " 1: -1.0181e+03 -1.0180e+03  3e-03  2e-01  2e-18\n",
      " 2: -1.0180e+03 -1.0180e+03  1e-03  0e+00  1e-18\n",
      " 3: -1.0180e+03 -1.0180e+03  1e-05  0e+00  0e+00\n",
      "Optimal solution found.\n",
      "     pcost       dcost       gap    pres   dres\n",
      " 0: -1.0178e+03 -1.0172e+03  8e-01  2e+00  2e-18\n",
      " 1: -1.0173e+03 -1.0170e+03  1e-02  3e-01  5e-18\n",
      " 2: -1.0169e+03 -1.0169e+03  6e-04  0e+00  2e-17\n",
      "Optimal solution found.\n",
      "     pcost       dcost       gap    pres   dres\n",
      " 0: -1.0181e+03 -1.0181e+03  7e-03  0e+00  2e-02\n",
      " 1: -1.0181e+03 -1.0181e+03  7e-05  0e+00  4e-04\n",
      " 2: -1.0181e+03 -1.0181e+03  1e-06  0e+00  6e-05\n",
      " 3: -1.0181e+03 -1.0181e+03  6e-08  1e-17  8e-20\n",
      "Optimal solution found.\n",
      "     pcost       dcost       gap    pres   dres\n",
      " 0: -1.0181e+03 -1.0181e+03  1e-01  1e+00  3e-19\n",
      " 1: -1.0181e+03 -1.0181e+03  1e-03  1e-01  0e+00\n",
      " 2: -1.0181e+03 -1.0181e+03  7e-04  1e-17  6e-18\n",
      "Optimal solution found.\n",
      "     pcost       dcost       gap    pres   dres\n",
      " 0: -1.0180e+03 -1.0177e+03  5e-01  2e+00  5e-18\n",
      " 1: -1.0178e+03 -1.0176e+03  8e-03  3e-01  7e-18\n",
      " 2: -1.0176e+03 -1.0176e+03  9e-04  0e+00  8e-17\n",
      "Optimal solution found.\n",
      "     pcost       dcost       gap    pres   dres\n",
      " 0: -1.0180e+03 -1.0178e+03  5e-01  1e+00  1e-18\n",
      " 1: -1.0179e+03 -1.0177e+03  7e-03  2e-01  0e+00\n",
      " 2: -1.0177e+03 -1.0177e+03  9e-04  2e-16  5e-17\n",
      "Optimal solution found.\n"
     ]
    },
    {
     "data": {
      "text/plain": [
       "<Figure size 419.328x245.376 with 0 Axes>"
      ]
     },
     "metadata": {},
     "output_type": "display_data"
    },
    {
     "data": {
      "text/plain": [
       "<Figure size 419.328x245.376 with 0 Axes>"
      ]
     },
     "metadata": {},
     "output_type": "display_data"
    },
    {
     "data": {
      "text/plain": [
       "<Figure size 419.328x245.376 with 0 Axes>"
      ]
     },
     "metadata": {},
     "output_type": "display_data"
    },
    {
     "data": {
      "text/plain": [
       "<Figure size 419.328x245.376 with 0 Axes>"
      ]
     },
     "metadata": {},
     "output_type": "display_data"
    },
    {
     "data": {
      "text/plain": [
       "<Figure size 419.328x245.376 with 0 Axes>"
      ]
     },
     "metadata": {},
     "output_type": "display_data"
    },
    {
     "data": {
      "text/plain": [
       "<Figure size 419.328x245.376 with 0 Axes>"
      ]
     },
     "metadata": {},
     "output_type": "display_data"
    },
    {
     "data": {
      "text/plain": [
       "<Figure size 419.328x245.376 with 0 Axes>"
      ]
     },
     "metadata": {},
     "output_type": "display_data"
    },
    {
     "data": {
      "text/plain": [
       "<Figure size 419.328x245.376 with 0 Axes>"
      ]
     },
     "metadata": {},
     "output_type": "display_data"
    }
   ],
   "source": [
    "import numpy as np\n",
    "import pandas as pd\n",
    "import matplotlib.pyplot as plt\n",
    "import entropy_pooling as ep\n",
    "\n",
    "titles = ['Rates up', 'Rates down', 'Eq up', 'Eq down', 'Inflation up', 'Inflation down', 'Vix up', 'Vix down']\n",
    "for i in range(8):\n",
    "    data = ep.views.load_debug(data = pd.read_excel(\"Data/data.xlsx\"), views_subsheet_name = i, views_sheet_name = \"Data/sample_portfolio2_views.xlsx\")\n",
    "    (A,b,C,d) = data\n",
    "    scenarios = pd.read_excel(\"Data/data.xlsx\")\n",
    "    m,n = scenarios.shape\n",
    "    pre = np.ones((1,m)).T/m\n",
    "    post = ep.entropy_minimizer.full_confidence_posterior(pre, A, b, C, d)\n",
    "    post = np.array([post]).T\n",
    "    plt_1 = plt.figure(figsize=(6.4*0.7*1.3, 4.8*0.71))\n",
    "    plt.bar(range(len(post)),np.sort(post.T[0]),width=1, label='Posterior distribution (sorted)',color='lightskyblue')\n",
    "    plt.plot([0,252],[1/253,1/253],'k--', label=\"Prior disribution\")\n",
    "    plt.ylabel('Distribution (weight)')\n",
    "    plt.xlabel('Scenario index (sorted)')\n",
    "    if i in [2,4]:\n",
    "        plt.legend(loc=3)\n",
    "    else:\n",
    "        plt.legend(loc=2)\n",
    "    plt.title(titles[i], fontsize= 15, fontweight='bold')\n",
    "    #plt.show()\n",
    "    plt.savefig('plots/post_dist_{}.pdf'.format(i+1))\n",
    "    plt.clf()"
   ]
  },
  {
   "cell_type": "code",
   "execution_count": null,
   "metadata": {},
   "outputs": [],
   "source": []
  }
 ],
 "metadata": {
  "interpreter": {
   "hash": "d5c43d4174ac5c1b362963af5a264445b72e362a07bf85e73ec852153795a88c"
  },
  "kernelspec": {
   "display_name": "Python 3.9.12 64-bit (windows store)",
   "language": "python",
   "name": "python3"
  },
  "language_info": {
   "codemirror_mode": {
    "name": "ipython",
    "version": 3
   },
   "file_extension": ".py",
   "mimetype": "text/x-python",
   "name": "python",
   "nbconvert_exporter": "python",
   "pygments_lexer": "ipython3",
   "version": "3.9.13"
  },
  "orig_nbformat": 4
 },
 "nbformat": 4,
 "nbformat_minor": 2
}
